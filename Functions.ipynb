{
  "nbformat": 4,
  "nbformat_minor": 0,
  "metadata": {
    "colab": {
      "provenance": []
    },
    "kernelspec": {
      "name": "python3",
      "display_name": "Python 3"
    },
    "language_info": {
      "name": "python"
    }
  },
  "cells": [
    {
      "cell_type": "code",
      "execution_count": null,
      "metadata": {
        "id": "NFTdaozsGvi_"
      },
      "outputs": [],
      "source": []
    },
    {
      "cell_type": "markdown",
      "source": [
        "# Theory Questions"
      ],
      "metadata": {
        "id": "8zWN5SrpG2-x"
      }
    },
    {
      "cell_type": "markdown",
      "source": [
        "1. What is the difference between a function and a method in Python?\n",
        "- Both functions and methods perform actions or return values, but they are used in different contexts.\n",
        "   1. Function:\n",
        "     - A function is a block of code that performs a task.\n",
        "     - It is defined using the def keyword.\n",
        "     - It can be independent or standalone — not tied to any object.\n",
        "     ```\n",
        "     def greet(name):\n",
        "     return \"Hello, \" + name\n",
        "     print(greet(\"Alice\"))\n",
        "     ```\n",
        "   2. Method:\n",
        "     - A method is a function that belongs to an object (i.e., it is defined   inside a class).\n",
        "     - You call it on an object (like a list, string, etc.).\n",
        "     ```\n",
        "     name = \"Alice\"\n",
        "     print(name.upper())  # 'upper' is a method of the string object\n",
        "     ```"
      ],
      "metadata": {
        "id": "oz8eEgJPG7xl"
      }
    },
    {
      "cell_type": "markdown",
      "source": [
        "2. Explain the concept of function arguments and parameters in Python.\n",
        "- In Python, functions can accept values when they are called. These values are passed through arguments, and they are received by parameters.\n",
        "```\n",
        "#'name' is a parameter\n",
        "    def greet(name):\n",
        "    print(\"Hello,\", name)\n",
        "```\n",
        "```\n",
        "# \"Alice\" is an argument\n",
        "   greet(\"Alice\")\n",
        "```"
      ],
      "metadata": {
        "id": "58kdCIh8H9w0"
      }
    },
    {
      "cell_type": "markdown",
      "source": [
        "3. What are the different ways to define and call a function in Python?\n",
        "- In Python, functions can be defined and called in several ways depending on the type of functionality you want. Here's a clear breakdown:\n",
        "\n",
        "   **Ways to Define Functions in Python**\n",
        "   1. Standard Function Definition :- Using def keyword with optional parameters.\n",
        "   ```\n",
        "   def greet(name):\n",
        "    print(\"Hello,\", name)\n",
        "  ```\n",
        "   2. Function with Default Parameters :- Assign default values to parameters.\n",
        "   ```\n",
        "   def greet(name=\"Guest\"):\n",
        "    print(\"Hello,\", name)\n",
        "   ```\n",
        "   3. Function with *args (Variable Positional Arguments) :- Allows passing multiple positional arguments.\n",
        "   ```\n",
        "   def show_items(*items):\n",
        "    for item in items:\n",
        "        print(item)\n",
        "    ```\n",
        "   4. Function with **kwargs (Variable Keyword Arguments) :- Allows passing multiple keyword arguments.\n",
        "   ```\n",
        "   def display_info(**info):\n",
        "    for key, value in info.items():\n",
        "        print(key, \":\", value)\n",
        "   ```\n",
        "   5. Lambda Function (Anonymous Function) :- Used for simple, short functions.\n",
        "     ```\n",
        "     square = lambda x: x * x\n",
        "     print(square(5))   # Output: 25\n",
        "      ```\n",
        "   **Ways to Call a Function**\n",
        "   1. Positional Arguments :- Values are matched by position.\n",
        "   ```\n",
        "   greet(\"Alice\")\n",
        "   ```\n",
        "   2. Keyword Arguments :- Values are matched by name.\n",
        "   ```\n",
        "   greet(name=\"Bob\")\n",
        "   ```\n",
        "   3. Using *args to Unpack a Tuple/List\n",
        "   ```\n",
        "   def add(a, b):\n",
        "    return a + b\n",
        "\n",
        "   values = (3, 4)\n",
        "   print(add(*values))  # Output: 7\n",
        "   ```\n",
        "   4. Using **kwargs to Unpack a Dictionary\n",
        "   ```\n",
        "   def greet_user(name, age):\n",
        "    print(f\"{name} is {age} years old.\")\n",
        "\n",
        "   info = {\"name\": \"John\", \"age\": 25}\n",
        "   greet_user(**info)\n",
        "   ```\n",
        "\n",
        "\n"
      ],
      "metadata": {
        "id": "PVgxwKWoIqVo"
      }
    },
    {
      "cell_type": "markdown",
      "source": [
        "4. What is the purpose of the `return` statement in a Python function?\n",
        "- The **return** statement in Python is used to send a result back from a function to the place where it was called.\n",
        "\n",
        " **Purpose of return:**\n",
        " 1. Send a value :- Returns a result (output) from a function.\n",
        " 2. Exit a function :- Stops function execution and exits.\n",
        " 3. Pass data :- Allows a function to provide results to the rest of the program.\n",
        "\n",
        "  Basic Example:\n",
        "  ```\n",
        "  def add(a, b):\n",
        "    return a + b\n",
        "\n",
        "  result = add(5, 3)\n",
        "  print(\"Result is:\", result)  # Output: 8\n",
        "\n",
        "  ```\n",
        "  Without return :\n",
        "  ```\n",
        "  def greet(name):\n",
        "    print(\"Hello\", name)\n",
        "\n",
        "  output = greet(\"Alice\")\n",
        "  print(\"Returned:\", output)  # Output: None\n",
        "  ```\n",
        " - If no return is used, the function returns None by default.\n",
        "\n",
        "  Returning Multiple Values : Python can return multiple values as a tuple:\n",
        " ```\n",
        " def calc(a, b):\n",
        "    return a + b, a - b\n",
        "\n",
        " sum_, diff = calc(10, 5)\n",
        " print(\"Sum:\", sum_)      # 15\n",
        " print(\"Difference:\", diff)  # 5\n",
        " ```\n"
      ],
      "metadata": {
        "id": "618MM2kAK09o"
      }
    },
    {
      "cell_type": "markdown",
      "source": [
        "5. What are iterators in Python and how do they differ from iterables?\n",
        "- In Python, iterators and iterables are closely related, but they are not the same. Let's break them down:\n",
        "  - Iterable :- An iterable is any object that can return its elements one at a time using a loop.\n",
        "  \n",
        "   Common iterable types:\n",
        "   - list\n",
        "   - tuple\n",
        "   - string\n",
        "   - dict\n",
        "   - set\n",
        "   ```\n",
        "   my_list = [1, 2, 3]\n",
        "   for item in my_list:   # ← my_list is iterable\n",
        "    print(item)\n",
        "   ```\n",
        " An iterable can be passed to the iter() function to create an iterator.\n",
        "\n",
        " - Iterator :- An iterator is an object that remembers its position during iteration and returns the next item when you call next() on it.\n",
        "\n",
        "     You create an iterator from an iterable using the built-in iter() function\n",
        "     ```\n",
        "     my_list = [1, 2, 3]\n",
        "    it = iter(my_list)    # Convert list to iterator\n",
        "\n",
        "    print(next(it))  # 1\n",
        "    print(next(it))  # 2\n",
        "    print(next(it))  # 3\n",
        "    ```\n",
        "     When there are no more items, calling next() raises a StopIteration error."
      ],
      "metadata": {
        "id": "nRhK2LjdMMxK"
      }
    },
    {
      "cell_type": "markdown",
      "source": [
        "6. Explain the concept of generators in Python and how they are defined.\n",
        "- Generators in Python are a special type of iterator that allow you to generate values on the fly, using less memory and code.\n",
        "   \n",
        "   They are defined like functions but use the yield keyword instead of return.\n",
        "    \n",
        "     Why Use Generators?\n",
        "    \n",
        "     1. Memory-efficient :- \tGenerates one value at a time (no full list in memory)\n",
        "     2. Fast :- Produces values as needed (lazy evaluation)\n",
        "     3. Clean code :- No need to manage state manually (like with iterators)\n",
        "\n",
        "  How to Define a Generator\n",
        "    \n",
        "     1. Using yield in a Function:\n",
        "     ```\n",
        "     def countdown(n):\n",
        "       while n > 0:\n",
        "         yield n\n",
        "         n -= 1\n",
        "      ```\n",
        "    - Each time yield is called, the function pauses and remembers its state.\n",
        "    - You can resume it later using next().\n",
        "\n",
        "  How to Use a Generator\n",
        "  ```\n",
        "  gen = countdown(3)\n",
        "\n",
        "  print(next(gen))  # 3\n",
        "  print(next(gen))  # 2\n",
        "  print(next(gen))  # 1\n",
        "  # next(gen) now will raise StopIteration\n",
        "  ```\n",
        "  Or loop through it:\n",
        "  ```\n",
        "  for num in countdown(3):\n",
        "    print(num)\n",
        "  ```\n",
        "\n",
        "\n"
      ],
      "metadata": {
        "id": "tZKeYLeqNm01"
      }
    },
    {
      "cell_type": "code",
      "source": [
        "# Example: Generator to Produce Even Numbers\n",
        "def even_numbers(limit):\n",
        "    for num in range(limit):\n",
        "        if num % 2 == 0:\n",
        "            yield num\n",
        "\n",
        "for val in even_numbers(10):\n",
        "    print(val)\n"
      ],
      "metadata": {
        "colab": {
          "base_uri": "https://localhost:8080/"
        },
        "id": "FQmuvBPyPSdB",
        "outputId": "ab1d65a9-be1e-47ef-a57c-ad06ac77a955"
      },
      "execution_count": null,
      "outputs": [
        {
          "output_type": "stream",
          "name": "stdout",
          "text": [
            "0\n",
            "2\n",
            "4\n",
            "6\n",
            "8\n"
          ]
        }
      ]
    },
    {
      "cell_type": "markdown",
      "source": [
        "7. What are the advantages of using generators over regular functions?\n",
        "- Generators offer several powerful advantages, especially when working with large data, streaming, or on-demand computation.\n",
        "\n",
        " Advantages of Generators:\n",
        " 1. Memory Efficiency\n",
        "    - Generators don’t store the entire result in memory.\n",
        "    - They generate values one at a time using yield, which saves memory.\n",
        "     ```\n",
        "    def read_lines(file):\n",
        "    for line in file:\n",
        "        yield line\n",
        "    ```\n",
        " 2. Faster Start-Up Time\n",
        "    - Since they compute one item at a time, they start processing immediately.\n",
        "    - No need to wait for all data to be computed like in a list-returning function.\n",
        " 3. Infinite Sequences\n",
        "    - Generators can model infinite streams like natural numbers, sensor data, etc., without crashing your program.\n",
        "     ```\n",
        "    def infinite_counter():\n",
        "    i = 0\n",
        "    while True:\n",
        "        yield i\n",
        "        i += 1\n",
        "     ```\n",
        "  4. State Preservation\n",
        "      - Each time yield is called, the generator remembers where it left off.\n",
        "      - No need to write extra logic for tracking the loop state.\n",
        "  5. Cleaner Code\n",
        "      - Generators allow you to write complex logic with simple loops, reducing boilerplate code often needed in regular functions with manual state handling."
      ],
      "metadata": {
        "id": "nrYmdpfFPMzu"
      }
    },
    {
      "cell_type": "markdown",
      "source": [
        "8. What is a lambda function in Python and when is it typically used?\n",
        "- A lambda function in Python is a small anonymous function defined using the lambda keyword. It can have any number of arguments, but only one expression.\n",
        "\n",
        " Syntax of a Lambda Function:\n",
        " ```\n",
        " lambda arguments: expression\n",
        " ```\n",
        "  Example:\n",
        "  ```\n",
        "  square = lambda x: x * x\n",
        "  print(square(5))  # Output: 25\n",
        "  ```\n",
        "  This is equivalent to:\n",
        "  ```\n",
        "  def square(x):\n",
        "    return x * x\n",
        "  ```\n",
        " Lambda Function Typically Used for :- Lambda functions are used when you need a quick, throwaway function — often as an argument to another function.\\\n",
        "\n",
        " Common Use Cases:\n",
        " 1. With map()\n",
        "  ```\n",
        "  nums = [1, 2, 3]\n",
        "  squares = list(map(lambda x: x**2, nums))  # [1, 4, 9]\n",
        "  ```\n",
        " 2. With filter()\n",
        "  ```\n",
        "  even = list(filter(lambda x: x % 2 == 0, nums))  # [2]\n",
        "  ```\n",
        " 3. With sorted() for custom sorting\n",
        "  ```\n",
        "  students = [('Alice', 25), ('Bob', 20), ('Eve', 22)]\n",
        "  sorted_list = sorted(students, key=lambda x: x[1])  # Sort by age\n",
        "  ```\n",
        "\n"
      ],
      "metadata": {
        "id": "9FouRgY5QtRA"
      }
    },
    {
      "cell_type": "markdown",
      "source": [
        "9. Explain the purpose and usage of the `map()` function in Python.\n",
        "- The **map()** function in Python is used to apply a function to every item in an iterable (like a list, tuple, etc.) and returns a new iterator with the results.\n",
        "\n",
        " Purpose of map():\n",
        " To transform each element of an iterable using a specified function, without writing a loop manually.\n",
        " ```\n",
        " map(function, iterable)\n",
        " ```\n",
        " - function: The function to apply to each item (can be built-in, user-defined, or lambda).\n",
        " - iterable: A sequence like list, tuple, string, etc.\n",
        "\n",
        " Basic Example :-\n",
        " ```\n",
        " nums = [1, 2, 3, 4]\n",
        " squared = map(lambda x: x**2, nums)\n",
        " print(list(squared))  # Output: [1, 4, 9, 16]\n",
        " ```\n",
        "  Using map() with a User-defined Function:\n",
        "  ```\n",
        "  def capitalize(word):\n",
        "    return word.upper()\n",
        "\n",
        "  names = ['alice', 'bob', 'eve']\n",
        "  capitalized = map(capitalize, names)\n",
        "  print(list(capitalized))  # ['ALICE', 'BOB', 'EVE']\n",
        "  ```\n",
        "  Using map() with Multiple Iterables:\n",
        "  ```\n",
        "  a = [1, 2, 3]\n",
        "  b = [4, 5, 6]\n",
        "\n",
        "  result = map(lambda x, y: x + y, a, b)\n",
        "  print(list(result))  # [5, 7, 9]\n",
        "  ```\n",
        "\n",
        "\n"
      ],
      "metadata": {
        "id": "5fJDIQEPSBvr"
      }
    },
    {
      "cell_type": "markdown",
      "source": [
        "10. What is the difference between `map()`, `reduce()`, and `filter()` functions in Python?\n",
        "- All three — **map()**, **reduce()**, and **filter()** — are functional programming tools used to process iterables, but they serve different purposes:\n",
        "\n",
        "1. map()\n",
        "   \n",
        "   Purpose: Applies a function to every item in an iterable and returns a new iterator.\n",
        "   Syntax :\n",
        "   ```\n",
        "   map(function, iterable)\n",
        "   ```\n",
        "   Example :\n",
        "   ```\n",
        "   nums = [1, 2, 3]\n",
        "   squares = list(map(lambda x: x * x, nums))  # [1, 4, 9]\n",
        "   ```\n",
        "2. filter()\n",
        "   \n",
        "   Purpose: Filters elements from an iterable based on whether the function returns True.\n",
        "   Syntax:\n",
        "   ```\n",
        "   filter(function, iterable)\n",
        "   ```\n",
        "   Example:\n",
        "   ```\n",
        "   nums = [1, 2, 3, 4, 5]\n",
        "   evens = list(filter(lambda x: x % 2 == 0, nums))  # [2, 4]\n",
        "   ```\n",
        "3. reduce() (from functools module)\n",
        "   \n",
        "   Purpose: Repeatedly applies a function to pairs of elements and reduces the iterable to a single value.\n",
        "   Syntax :\n",
        "   ```\n",
        "   from functools import reduce\n",
        "   reduce(function, iterable)\n",
        "   ```\n",
        "   Example:\n",
        "   ```\n",
        "   from functools import reduce\n",
        "   nums = [1, 2, 3, 4]\n",
        "   product = reduce(lambda x, y: x * y, nums)  # 24\n",
        "   ```\n"
      ],
      "metadata": {
        "id": "4WLGmsElS7Cu"
      }
    },
    {
      "cell_type": "markdown",
      "source": [
        "11. Using pen & Paper write the internal mechanism for sum operation using  reduce function on this given\n",
        "list:[47,11,42,13]; ![reduce_function_mechanism.jpg](data:image/jpeg;base64,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)"
      ],
      "metadata": {
        "id": "ZSAozw0eUQTM"
      }
    },
    {
      "cell_type": "markdown",
      "source": [
        "# Practical Questions:"
      ],
      "metadata": {
        "id": "2w32bGdKWZuz"
      }
    },
    {
      "cell_type": "markdown",
      "source": [
        "1. Write a Python function that takes a list of numbers as input and returns the sum of all even numbers in\n",
        "the list."
      ],
      "metadata": {
        "id": "afDMStZFWg_1"
      }
    },
    {
      "cell_type": "code",
      "source": [
        "def even_numbers(nums):\n",
        " s=0;\n",
        " for i in nums:\n",
        "  if i%2==0:\n",
        "    s=s+i\n",
        " return s\n",
        "\n",
        "nums= list(map(int, input(\"Enter numbers separated by space: \").split()))\n",
        "print(f\"sum of these numbers is {even_numbers(nums)}\")\n"
      ],
      "metadata": {
        "colab": {
          "base_uri": "https://localhost:8080/"
        },
        "id": "4AlvzdSdWlMw",
        "outputId": "ac762d7c-b0cb-40ce-f4ab-517c99cd24aa"
      },
      "execution_count": 6,
      "outputs": [
        {
          "output_type": "stream",
          "name": "stdout",
          "text": [
            "Enter numbers separated by space: 2 3 4 5 6 7 8 9\n",
            "sum of these numbers is 20\n"
          ]
        }
      ]
    },
    {
      "cell_type": "markdown",
      "source": [
        "2. Create a Python function that accepts a string and returns the reverse of that string."
      ],
      "metadata": {
        "id": "LGEDo51kYzh6"
      }
    },
    {
      "cell_type": "code",
      "source": [
        "def reverse_string(str1):\n",
        "  return str1[::-1]\n",
        "str1=input(\"enter a string:- \")\n",
        "print(f\"reversed string is {reverse_string(str1)}\")"
      ],
      "metadata": {
        "colab": {
          "base_uri": "https://localhost:8080/"
        },
        "id": "Thac9UmtYzCc",
        "outputId": "7248b461-670a-43cb-c1c7-44b5316787e2"
      },
      "execution_count": 11,
      "outputs": [
        {
          "output_type": "stream",
          "name": "stdout",
          "text": [
            "enter a string:- Anisha\n",
            "reversed string is ahsinA\n"
          ]
        }
      ]
    },
    {
      "cell_type": "markdown",
      "source": [
        "3. Implement a Python function that takes a list of integers and returns a new list containing the squares of\n",
        "each number."
      ],
      "metadata": {
        "id": "zBAsZ-bKaB_d"
      }
    },
    {
      "cell_type": "code",
      "source": [
        "def square_nums(list1):\n",
        "  list2=[]\n",
        "  for i in list1:\n",
        "    list2.append(i**2)\n",
        "  return list2\n",
        "nums= list(map(int, input(\"Enter numbers separated by space: \").split()))\n",
        "print(f\"square of these numbers are {square_nums(nums)}\")"
      ],
      "metadata": {
        "colab": {
          "base_uri": "https://localhost:8080/"
        },
        "id": "-qBHeFSXaIm3",
        "outputId": "ba431847-6374-4abb-84c6-dffe1e7c7d9a"
      },
      "execution_count": 16,
      "outputs": [
        {
          "output_type": "stream",
          "name": "stdout",
          "text": [
            "Enter numbers separated by space: 2 3 4 5 6 7 8 9 10\n",
            "square of these numbers are [4, 9, 16, 25, 36, 49, 64, 81, 100]\n"
          ]
        }
      ]
    },
    {
      "cell_type": "markdown",
      "source": [
        "4. Write a Python function that checks if a given number is prime or not from 1 to 200."
      ],
      "metadata": {
        "id": "honOh32ibhMp"
      }
    },
    {
      "cell_type": "code",
      "source": [
        "def is_prime(n):\n",
        "    if n <= 1:\n",
        "        return False  # 1 and below are not prime\n",
        "    for i in range(2, int(n**0.5) + 1):  # check up to square root of n\n",
        "        if n % i == 0:\n",
        "            return False  # divisible by another number\n",
        "    return True  # prime if no divisors found\n",
        "\n",
        "# Check primes from 1 to 200\n",
        "for num in range(1, 201):\n",
        "    if is_prime(num):\n",
        "        print(f\"{num} is a prime number\")\n"
      ],
      "metadata": {
        "colab": {
          "base_uri": "https://localhost:8080/"
        },
        "id": "oUef8ZbmblzT",
        "outputId": "0fb70141-d39b-41a2-98ec-c9f3e2525dfb"
      },
      "execution_count": 17,
      "outputs": [
        {
          "output_type": "stream",
          "name": "stdout",
          "text": [
            "2 is a prime number\n",
            "3 is a prime number\n",
            "5 is a prime number\n",
            "7 is a prime number\n",
            "11 is a prime number\n",
            "13 is a prime number\n",
            "17 is a prime number\n",
            "19 is a prime number\n",
            "23 is a prime number\n",
            "29 is a prime number\n",
            "31 is a prime number\n",
            "37 is a prime number\n",
            "41 is a prime number\n",
            "43 is a prime number\n",
            "47 is a prime number\n",
            "53 is a prime number\n",
            "59 is a prime number\n",
            "61 is a prime number\n",
            "67 is a prime number\n",
            "71 is a prime number\n",
            "73 is a prime number\n",
            "79 is a prime number\n",
            "83 is a prime number\n",
            "89 is a prime number\n",
            "97 is a prime number\n",
            "101 is a prime number\n",
            "103 is a prime number\n",
            "107 is a prime number\n",
            "109 is a prime number\n",
            "113 is a prime number\n",
            "127 is a prime number\n",
            "131 is a prime number\n",
            "137 is a prime number\n",
            "139 is a prime number\n",
            "149 is a prime number\n",
            "151 is a prime number\n",
            "157 is a prime number\n",
            "163 is a prime number\n",
            "167 is a prime number\n",
            "173 is a prime number\n",
            "179 is a prime number\n",
            "181 is a prime number\n",
            "191 is a prime number\n",
            "193 is a prime number\n",
            "197 is a prime number\n",
            "199 is a prime number\n"
          ]
        }
      ]
    },
    {
      "cell_type": "markdown",
      "source": [
        "5. Create an iterator class in Python that generates the Fibonacci sequence up to a specified number of\n",
        "terms."
      ],
      "metadata": {
        "id": "uMN5kO95b68c"
      }
    },
    {
      "cell_type": "code",
      "source": [
        "class Fibonacci:\n",
        "    def __init__(self, n_terms):\n",
        "        self.n_terms = n_terms  # Total number of terms\n",
        "        self.count = 0          # Counter for how many terms generated\n",
        "        self.a, self.b = 0, 1   # Starting values\n",
        "\n",
        "    def __iter__(self):\n",
        "        return self\n",
        "\n",
        "    def __next__(self):\n",
        "        if self.count >= self.n_terms:\n",
        "            raise StopIteration\n",
        "        if self.count == 0:\n",
        "            self.count += 1\n",
        "            return 0\n",
        "        elif self.count == 1:\n",
        "            self.count += 1\n",
        "            return 1\n",
        "        else:\n",
        "            fib = self.a + self.b\n",
        "            self.a, self.b = self.b, fib\n",
        "            self.count += 1\n",
        "            return fib\n",
        "\n",
        "# Example usage:\n",
        "num_terms = int(input(\"Enter number of Fibonacci terms: \"))\n",
        "fib_iter = Fibonacci(num_terms)\n",
        "\n",
        "print(\"Fibonacci Sequence:\")\n",
        "for num in fib_iter:\n",
        "    print(num, end=' ')\n"
      ],
      "metadata": {
        "colab": {
          "base_uri": "https://localhost:8080/"
        },
        "id": "rbDOIPccb_5F",
        "outputId": "99415bbe-ecfe-4209-8b86-464689b3014a"
      },
      "execution_count": 18,
      "outputs": [
        {
          "output_type": "stream",
          "name": "stdout",
          "text": [
            "Enter number of Fibonacci terms: 8\n",
            "Fibonacci Sequence:\n",
            "0 1 1 2 3 5 8 13 "
          ]
        }
      ]
    },
    {
      "cell_type": "markdown",
      "source": [
        "6. Write a generator function in Python that yields the powers of 2 up to a given exponent."
      ],
      "metadata": {
        "id": "45ESn-vfckvH"
      }
    },
    {
      "cell_type": "code",
      "source": [
        "def powers_of_two(n):\n",
        "    for i in range(n + 1):\n",
        "        yield 2 ** i\n",
        "max_exponent = int(input(\"Enter the maximum exponent: \"))\n",
        "\n",
        "print(f\"Powers of 2 from 2^0 to 2^{max_exponent}:\")\n",
        "for power in powers_of_two(max_exponent):\n",
        "    print(power, end=' ')\n"
      ],
      "metadata": {
        "colab": {
          "base_uri": "https://localhost:8080/"
        },
        "id": "k_I4JlPBd86z",
        "outputId": "b74d5fa6-0bc4-4fba-f692-6365fcbce29a"
      },
      "execution_count": 20,
      "outputs": [
        {
          "output_type": "stream",
          "name": "stdout",
          "text": [
            "Enter the maximum exponent: 8\n",
            "Powers of 2 from 2^0 to 2^8:\n",
            "1 2 4 8 16 32 64 128 256 "
          ]
        }
      ]
    },
    {
      "cell_type": "markdown",
      "source": [
        "7. Implement a generator function that reads a file line by line and yields each line as a string."
      ],
      "metadata": {
        "id": "aNyeSRZ8ebBT"
      }
    },
    {
      "cell_type": "code",
      "source": [
        "def read_file_lines(file_path):\n",
        "    try:\n",
        "        with open(file_path, 'r') as file:\n",
        "            for line in file:\n",
        "                yield line.strip()  # Yield each line, removing newline characters\n",
        "    except FileNotFoundError:\n",
        "        print(f\"❌ File not found: {file_path}\")\n",
        "\n",
        "# Example usage\n",
        "file_path = input(\"Enter the file path: \")\n",
        "\n",
        "print(\"File contents:\")\n",
        "for line in read_file_lines(file_path):\n",
        "    print(line)\n",
        "\n",
        "\n"
      ],
      "metadata": {
        "colab": {
          "base_uri": "https://localhost:8080/"
        },
        "id": "Z4Js7DITef_r",
        "outputId": "1447eefe-9913-49c6-cec0-fc3c8671fb9b"
      },
      "execution_count": 30,
      "outputs": [
        {
          "output_type": "stream",
          "name": "stdout",
          "text": [
            "Enter the file path: lorem_ipsum.txt\n",
            "File contents:\n",
            "❌ File not found: lorem_ipsum.txt\n"
          ]
        }
      ]
    },
    {
      "cell_type": "markdown",
      "source": [
        "8. Use a lambda function in Python to sort a list of tuples based on the second element of each tuple."
      ],
      "metadata": {
        "id": "EWaV66vsgkDC"
      }
    },
    {
      "cell_type": "code",
      "source": [
        "# Sample list of tuples\n",
        "data = [(1, 5), (3, 1), (2, 8), (4, 2)]\n",
        "\n",
        "# Sort using lambda\n",
        "sorted_data = sorted(data, key=lambda x: x[1])\n",
        "\n",
        "# Print result\n",
        "print(\"Sorted list:\", sorted_data)\n"
      ],
      "metadata": {
        "colab": {
          "base_uri": "https://localhost:8080/"
        },
        "id": "oYo64yxUgp1w",
        "outputId": "239c8556-1185-49f6-e237-81274a33b12a"
      },
      "execution_count": 26,
      "outputs": [
        {
          "output_type": "stream",
          "name": "stdout",
          "text": [
            "Sorted list: [(3, 1), (4, 2), (1, 5), (2, 8)]\n"
          ]
        }
      ]
    },
    {
      "cell_type": "markdown",
      "source": [
        "9. Write a Python program that uses `map()` to convert a list of temperatures from Celsius to Fahrenheit."
      ],
      "metadata": {
        "id": "3H1LdezIg46D"
      }
    },
    {
      "cell_type": "code",
      "source": [
        "# List of temperatures in Celsius\n",
        "celsius_temps = [0, 20, 37, 100]\n",
        "\n",
        "# Use map() to convert each Celsius temperature to Fahrenheit\n",
        "fahrenheit_temps = list(map(lambda c: (c * 9/5) + 32, celsius_temps))\n",
        "\n",
        "# Print the result\n",
        "print(\"Celsius:    \", celsius_temps)\n",
        "print(\"Fahrenheit: \", fahrenheit_temps)\n"
      ],
      "metadata": {
        "colab": {
          "base_uri": "https://localhost:8080/"
        },
        "id": "psaBIyLjhCxj",
        "outputId": "cddd6837-8381-4b51-b0de-730878c94d6f"
      },
      "execution_count": 27,
      "outputs": [
        {
          "output_type": "stream",
          "name": "stdout",
          "text": [
            "Celsius:     [0, 20, 37, 100]\n",
            "Fahrenheit:  [32.0, 68.0, 98.6, 212.0]\n"
          ]
        }
      ]
    },
    {
      "cell_type": "markdown",
      "source": [
        "10. Create a Python program that uses `filter()` to remove all the vowels from a given string."
      ],
      "metadata": {
        "id": "dLtkIJbWhFNw"
      }
    },
    {
      "cell_type": "code",
      "source": [
        "def remove_vowels(input_str):\n",
        "    vowels = 'aeiouAEIOU'\n",
        "    # Use filter to keep only non-vowel characters\n",
        "    result = ''.join(filter(lambda ch: ch not in vowels, input_str))\n",
        "    return result\n",
        "\n",
        "# Input from user\n",
        "text = input(\"Enter a string: \")\n",
        "\n",
        "# Remove vowels\n",
        "no_vowels = remove_vowels(text)\n",
        "\n",
        "# Output\n",
        "print(\"String without vowels:\", no_vowels)\n"
      ],
      "metadata": {
        "colab": {
          "base_uri": "https://localhost:8080/"
        },
        "id": "TVGkHTg9hI5p",
        "outputId": "36b4f274-3b10-4e0c-97f1-ecbaf8859a91"
      },
      "execution_count": 28,
      "outputs": [
        {
          "output_type": "stream",
          "name": "stdout",
          "text": [
            "Enter a string: hello world\n",
            "String without vowels: hll wrld\n"
          ]
        }
      ]
    },
    {
      "cell_type": "markdown",
      "source": [
        "11.  Imagine an accounting routine used in a book shop. It works on a list with sublists, which look like this:\n",
        "\n",
        "\n",
        "\n",
        "\n",
        "\n",
        "\n",
        "\n",
        "Write a Python program, which returns a list with 2-tuples. Each tuple consists of the order number and the\n",
        "product of the price per item and the quantity. The product should be increased by 10,- € if the value of the\n",
        "order is smaller than 100,00 €.\n",
        "\n",
        "Write a Python program using lambda and map"
      ],
      "metadata": {
        "id": "Oun1k6MahSnT"
      }
    },
    {
      "cell_type": "code",
      "source": [
        "# Sample data: [Order No, Item, Quantity, Price Per Item]\n",
        "orders = [\n",
        "    [\"34587\", \"Learning Python\", 4, 40.95],\n",
        "    [\"98762\", \"Programming in C\", 5, 35.50],\n",
        "    [\"77226\", \"Head First Java\", 3, 24.99],\n",
        "    [\"88112\", \"Effective Java\", 3, 50.00]\n",
        "]\n",
        "\n",
        "# Apply the accounting rule\n",
        "results = list(map(lambda order: (\n",
        "    order[0],\n",
        "    order[2] * order[3] if order[2] * order[3] >= 100 else order[2] * order[3] + 10\n",
        "), orders))\n",
        "\n",
        "# Display result\n",
        "print(\"Order Summary (Order Number, Final Cost):\")\n",
        "for r in results:\n",
        "    print(r)\n"
      ],
      "metadata": {
        "colab": {
          "base_uri": "https://localhost:8080/"
        },
        "id": "kHpIXLJShSO_",
        "outputId": "614d2355-4027-40a2-b8be-d3b783c7bddb"
      },
      "execution_count": 29,
      "outputs": [
        {
          "output_type": "stream",
          "name": "stdout",
          "text": [
            "Order Summary (Order Number, Final Cost):\n",
            "('34587', 163.8)\n",
            "('98762', 177.5)\n",
            "('77226', 84.97)\n",
            "('88112', 150.0)\n"
          ]
        }
      ]
    }
  ]
}