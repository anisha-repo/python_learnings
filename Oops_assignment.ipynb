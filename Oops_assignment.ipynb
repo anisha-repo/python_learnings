{
  "nbformat": 4,
  "nbformat_minor": 0,
  "metadata": {
    "colab": {
      "provenance": []
    },
    "kernelspec": {
      "name": "python3",
      "display_name": "Python 3"
    },
    "language_info": {
      "name": "python"
    }
  },
  "cells": [
    {
      "cell_type": "markdown",
      "source": [
        "# Theory Questions"
      ],
      "metadata": {
        "id": "oiYMucYKZW9S"
      }
    },
    {
      "cell_type": "markdown",
      "source": [
        "1. What is Object-Oriented Programming (OOP)?\n",
        "- Object-Oriented Programming (OOP) is a programming paradigm based on the concept of \"objects\", which can contain data (attributes) and code (methods/functions).\n",
        "- class and objects are the two core concepts in  oops\n",
        "    - class :- A class is like an object constructor or a blueprint for creating object\n",
        "    ```\n",
        "    #create a class\n",
        "      class myClass:\n",
        "       x=5\n",
        "    ```\n",
        "    - objects :- An instance of a class.\n",
        "      ```\n",
        "      #we can use the class named 'myClass' for creating a object\n",
        "      obj1=myClass()\n",
        "      print(obje1.x) #O/P -> 5\n",
        "      ```\n",
        "- four pillars of oops are :-\n",
        "    1. Inheritance :- child class inherit parents class\n",
        "    2. Encapsulation :- process of binding data and methods\n",
        "    3. Polymorphism :- one functionality with multiple behaviour\n",
        "    4. Abstraction :- hiding the functionalities of project\n"
      ],
      "metadata": {
        "id": "8w0EizthZgmm"
      }
    },
    {
      "cell_type": "markdown",
      "source": [
        "2. What is a class in OOP?\n",
        "-  A class is a blueprint or template used to create objects. It defines attributes (data) and methods (functions) that the objects created from the class will have.\n",
        "- A blueprint for a house — it tells you where the rooms, doors, and windows go, but it’s not the actual house. You can build multiple houses (objects) using the same blueprint (class).\n",
        "- A Class Typically Contains:\n",
        "    1. Attributes (Variables) – Define the properties of the object\n",
        "    2. Methods (Functions) – Define the behavior of the object\n",
        "    3. Constructor – __init__() method used to initialize the object’s attributes\n",
        "- Benefits of Using Classes:\n",
        "    1. Organizes code in a logical and reusable way\n",
        "    2. Makes it easier to build complex programs\n",
        "    3. Supports encapsulation, inheritance, and polymorphism\n"
      ],
      "metadata": {
        "id": "SPzvOaPqcN_A"
      }
    },
    {
      "cell_type": "code",
      "source": [
        "class Student:\n",
        "    def __init__(self, name, age):\n",
        "        self.name = name\n",
        "        self.age = age\n",
        "\n",
        "    def greet(self):\n",
        "        print(f\"Hello, my name is {self.name} and I am {self.age} years old.\")\n"
      ],
      "metadata": {
        "id": "XKhLcxnPdORa"
      },
      "execution_count": null,
      "outputs": []
    },
    {
      "cell_type": "markdown",
      "source": [
        "3. What is an object in OOP?\n",
        "- An object is an instance of a class. It represents a real-world entity with data (attributes) and behavior (methods) defined by its class."
      ],
      "metadata": {
        "id": "mzaf0XivdYN3"
      }
    },
    {
      "cell_type": "code",
      "source": [
        "#example for creating object\n",
        "s1 = Student(\"Anisha\", 20)\n",
        "s1.greet()   # Output: Hello, my name is Anisha and I am 20 years old.\n"
      ],
      "metadata": {
        "colab": {
          "base_uri": "https://localhost:8080/"
        },
        "id": "OERchR1ldsSq",
        "outputId": "da0f7332-a3bd-4aa7-b0ef-ebc8d52b8b97"
      },
      "execution_count": null,
      "outputs": [
        {
          "output_type": "stream",
          "name": "stdout",
          "text": [
            "Hello, my name is Anisha and I am 20 years old.\n"
          ]
        }
      ]
    },
    {
      "cell_type": "markdown",
      "source": [
        "4. What is the difference between abstraction and encapsulation?\n",
        "- Abstraction:\n",
        "    - it hides implementation details and showing only the essential features.\n",
        "    - the purpose is To simplify complexity by focusing on what an object does, not how it does it.\n",
        "    - access control is Achieved using abstract classes or interfaces (e.g., using @abstractmethod in Python).\n",
        "    - Focuses on hiding the complexity and only exposing the necessary parts.\n",
        "    - A user presses a button to start a washing machine (doesn’t know internal process).\n",
        "- Encapsulation:\n",
        "    - Wrapping data (variables) and methods into a single unit (class) and restricting direct access.\n",
        "    - the purpose is To protect data and ensure it’s accessed/modified safely.\n",
        "    - access control is Achieved using access modifiers (public, private, protected).\n",
        "    - Focuses on data protection and keeping it safe from outside interference.\n",
        "    - Variables are declared as private, and accessed via get() and set() methods."
      ],
      "metadata": {
        "id": "P_rvzGzwd4FU"
      }
    },
    {
      "cell_type": "code",
      "source": [
        "from abc import ABC, abstractmethod\n",
        "\n",
        "class Animal(ABC):\n",
        "    @abstractmethod\n",
        "    def make_sound(self):\n",
        "        pass\n",
        "\n",
        "class Dog(Animal):\n",
        "    def make_sound(self):\n",
        "        print(\"Bark\")\n"
      ],
      "metadata": {
        "id": "62CL2aOIfAGW"
      },
      "execution_count": null,
      "outputs": []
    },
    {
      "cell_type": "code",
      "source": [
        "class Account:\n",
        "    def __init__(self):\n",
        "        self.__balance = 0  # private variable\n",
        "\n",
        "    def deposit(self, amount):\n",
        "        if amount > 0:\n",
        "            self.__balance += amount\n",
        "\n",
        "    def get_balance(self):\n",
        "        return self.__balance\n"
      ],
      "metadata": {
        "id": "p2GpT35XfHUF"
      },
      "execution_count": null,
      "outputs": []
    },
    {
      "cell_type": "markdown",
      "source": [
        "5. What are dunder methods in Python?\n",
        "- Dunder methods (short for “double underscore” methods) are special methods in Python that have names starting and ending with double underscores, like __init__, __str__, __len__, etc.\n",
        "- Dunder = Double UNDERscore (e.g., __add__, __eq__, __repr__)\n",
        "Purpose of Dunder Methods:\n",
        "  -  Dunder methods allow you to:\n",
        "  -  Customize how your objects behave with built-in Python functions\n",
        "  -  Enable operator overloading\n",
        "  -  Hook into Python's built-in behavior (e.g., printing, iteration, comparisons)"
      ],
      "metadata": {
        "id": "vNfi3_P-fLHc"
      }
    },
    {
      "cell_type": "markdown",
      "source": [
        "6.  Explain the concept of inheritance in OOP.\n",
        "- Inheritance is an OOP concept where a child class (subclass) inherits properties and behaviors (methods and attributes) from a parent class (superclass).\n",
        "\n",
        "- It helps in reusing code, building a hierarchical relationship, and achieving polymorphism.\n",
        "- Why Use Inheritance?\n",
        "    1. Code Reusability: No need to write the same code again and again.\n",
        "    2. Extensibility: You can add or modify features in child classes.\n",
        "    3. Logical Hierarchy: Models real-world relationships like \"Dog is an Animal.\"\n",
        "- Types of inheritance:\n",
        "    1. single inheritance : one chile class inherits from one parent class\n",
        "    2. multiple inhheritance: one class inherits from multiple classes\n",
        "    3. multilevel inheritance: A class inherits from a class which is already a child class\n",
        "    4. Hierarchical Inheritance: Multiple classes inherit from one parent class\n",
        "    5. Hybrid Inheritance: A combination of two or more types above"
      ],
      "metadata": {
        "id": "KVj8h6LEfS3B"
      }
    },
    {
      "cell_type": "code",
      "source": [
        "# Parent class (Base class or Superclass)\n",
        "class Animal:\n",
        "    def sound(self):\n",
        "        print(\"Some generic animal sound\")\n",
        "\n",
        "# Child class (Derived class or Subclass)\n",
        "class Dog(Animal):\n",
        "    def sound(self):\n",
        "        print(\"Dog barks\")\n",
        "\n",
        "# Creating object of Dog\n",
        "d = Dog()\n",
        "d.sound()  # Output: Dog barks\n"
      ],
      "metadata": {
        "colab": {
          "base_uri": "https://localhost:8080/"
        },
        "id": "4HR6BxQkgdLa",
        "outputId": "03cf4574-7ee9-41ab-900d-0650a70cd8b0"
      },
      "execution_count": null,
      "outputs": [
        {
          "output_type": "stream",
          "name": "stdout",
          "text": [
            "Dog barks\n"
          ]
        }
      ]
    },
    {
      "cell_type": "markdown",
      "source": [
        "7.  What is polymorphism in OOP?\n",
        "- Polymorphism means “many forms”. It allows different classes to define methods with the same name but with different behavior, and lets you use them interchangeably.\n",
        "- Why Polymorphism Is Useful:\n",
        "    -  Allows for flexibility and reusability of code.\n",
        "    -  Makes it easier to add new classes with minimal changes.\n",
        "    -  Helps in implementing interfaces and overriding methods.\n",
        "- Two Types of Polymorphism in OOP:\n",
        "    - Compile-time Polymorphism (Method Overloading) :- Same method name with different parameters (not directly supported in Python).\n",
        "    - Runtime Polymorphism (Method Overriding) :- Subclass provides a specific implementation of a method already defined in its parent class."
      ],
      "metadata": {
        "id": "_6p4ifeGghlG"
      }
    },
    {
      "cell_type": "code",
      "source": [
        "#example\n",
        "class Animal:\n",
        "    def speak(self):\n",
        "        print(\"Animal makes a sound\")\n",
        "\n",
        "class Dog(Animal):\n",
        "    def speak(self):\n",
        "        print(\"Dog barks\")\n",
        "\n",
        "class Cat(Animal):\n",
        "    def speak(self):\n",
        "        print(\"Cat meows\")\n",
        "\n",
        "# Polymorphic behavior\n",
        "def make_animal_speak(animal):\n",
        "    animal.speak()\n",
        "\n",
        "make_animal_speak(Dog())  # Output: Dog barks\n",
        "make_animal_speak(Cat())  # Output: Cat meows\n"
      ],
      "metadata": {
        "id": "AXw3a75NhIWV"
      },
      "execution_count": null,
      "outputs": []
    },
    {
      "cell_type": "markdown",
      "source": [
        "8. How is encapsulation achieved in Python?\n",
        "- Encapsulation in Python is the process of restricting direct access to some of an object’s internal data and only allowing it through defined methods. It helps protect the data and ensures controlled access.\n",
        "- Encapsulation is Achieved Using:\n",
        "    1. Private Variables :\n",
        "Prefix variable names with double underscores __ to make them private.\n",
        "    2. Getter and Setter Methods :\n",
        "Use methods to get and set the value of private variables safely."
      ],
      "metadata": {
        "id": "gVSdjjpYhLjD"
      }
    },
    {
      "cell_type": "code",
      "source": [
        "class Student:\n",
        "    def __init__(self, name, age):\n",
        "        self.__name = name   # private attribute\n",
        "        self.__age = age     # private attribute\n",
        "\n",
        "    # Getter method\n",
        "    def get_name(self):\n",
        "        return self.__name\n",
        "\n",
        "    # Setter method\n",
        "    def set_name(self, new_name):\n",
        "        if new_name:\n",
        "            self.__name = new_name\n",
        "\n",
        "    def display(self):\n",
        "        print(f\"Name: {self.__name}, Age: {self.__age}\")\n"
      ],
      "metadata": {
        "id": "wN9SA4WhhqJR"
      },
      "execution_count": null,
      "outputs": []
    },
    {
      "cell_type": "markdown",
      "source": [
        "9. What is a constructor in Python?\n",
        "- A constructor in Python is a special method used to initialize objects of a class when they are created. It sets up the initial state (attributes) of the object.\n",
        "- In Python, the constructor is the __init__() method.\n",
        "It is automatically called when you create a new object from a class.\n",
        "-  \n",
        "      ```\n",
        "      # Syntax\n",
        "      class Student:\n",
        "          def __init__(self, name, age):  # Constructor\n",
        "            self.name = name            # Instance variable\n",
        "            self.age = age\n",
        "\n",
        "      ```\n",
        "\n",
        "\n",
        "\n"
      ],
      "metadata": {
        "id": "cyb_tP9ShsQb"
      }
    },
    {
      "cell_type": "code",
      "source": [
        "#example\n",
        "class Student:\n",
        "    def __init__(self, name, age):\n",
        "        self.name = name\n",
        "        self.age = age\n",
        "\n",
        "    def display(self):\n",
        "        print(f\"Name: {self.name}, Age: {self.age}\")\n",
        "\n",
        "# Creating object\n",
        "s1 = Student(\"Anisha\", 20)\n",
        "s1.display()\n"
      ],
      "metadata": {
        "colab": {
          "base_uri": "https://localhost:8080/"
        },
        "id": "bch5I65gik-b",
        "outputId": "65d4c647-6fcf-4bd9-c793-2e85a30729fc"
      },
      "execution_count": null,
      "outputs": [
        {
          "output_type": "stream",
          "name": "stdout",
          "text": [
            "Name: Anisha, Age: 20\n"
          ]
        }
      ]
    },
    {
      "cell_type": "markdown",
      "source": [
        "10. What are class and static methods in Python?\n",
        "- Both class methods and static methods are special types of methods that belong to a class rather than an instance. They are defined using decorators:\n",
        "\n",
        "-  Class Method\n",
        "    -  Defined using the @classmethod decorator.\n",
        "    -  Takes cls (the class itself) as the first argument.\n",
        "    -  Can access or modify class state that applies across all instances.\n",
        "    -  Use case: Useful for creating alternative constructors or working with class-level data.\n",
        "    ```\n",
        "      class MyClass:\n",
        "      count = 0\n",
        "\n",
        "      def __init__(self):\n",
        "          MyClass.count += 1\n",
        "\n",
        "      @classmethod\n",
        "      def get_count(cls):\n",
        "          return cls.count\n",
        "\n",
        "      # Example\n",
        "      obj1 = MyClass()\n",
        "      obj2 = MyClass()\n",
        "      print(MyClass.get_count())  # Output: 2\n",
        "      ```\n",
        "- Static Method\n",
        "    -  Defined using the @staticmethod decorator.\n",
        "    -  Takes no self or cls as the first argument.\n",
        "    -  Cannot access or modify class or instance state.\n",
        "    -  Behaves like a regular function inside a class.\n",
        "    -  Use case: Useful for utility functions that are related to the class but don’t need access to class or instance variables.\n",
        "    ```\n",
        "      class MathUtils:\n",
        "      @staticmethod\n",
        "      def add(a, b):\n",
        "          return a + b\n",
        "\n",
        "      # Example\n",
        "      print(MathUtils.add(3, 4))  # Output: 7\n",
        "      ```\n",
        "\n",
        "\n"
      ],
      "metadata": {
        "id": "8Cf0r3jxip5T"
      }
    },
    {
      "cell_type": "markdown",
      "source": [
        "11. What is method overloading in Python?\n",
        "- Method Overloading means defining multiple methods in the same class with the same name but different number or types of parameters.\n",
        "-  However, Python does not support method overloading in the traditional way like Java or C++. In Python, only the last defined method with a given name is used — earlier ones get overridden."
      ],
      "metadata": {
        "id": "n3d4O8bKiy9S"
      }
    },
    {
      "cell_type": "markdown",
      "source": [
        "12. What is method overriding in OOP?\n",
        "- Method Overriding occurs when a child class provides its own implementation of a method that is already defined in the parent class.\n",
        "- It allows a subclass to customize or completely replace a method inherited from the superclass.\n",
        "- Why Use Method Overriding?\n",
        "    -  To provide specific implementation in a subclass.\n",
        "    -  To achieve runtime polymorphism.\n",
        "    -  To build flexible and extensible code (especially in frameworks or APIs)."
      ],
      "metadata": {
        "id": "E_RkG6RpjQ4H"
      }
    },
    {
      "cell_type": "code",
      "source": [
        "class Animal:\n",
        "    def sound(self):\n",
        "        print(\"Animal makes a sound\")\n",
        "\n",
        "class Dog(Animal):\n",
        "    def sound(self):\n",
        "        print(\"Dog barks\")\n",
        "\n",
        "class Cat(Animal):\n",
        "    def sound(self):\n",
        "        print(\"Cat meows\")\n",
        "\n",
        "# Objects\n",
        "a = Animal()\n",
        "d = Dog()\n",
        "c = Cat()\n",
        "\n",
        "a.sound()  # Output: Animal makes a sound\n",
        "d.sound()  # Output: Dog barks\n",
        "c.sound()  # Output: Cat meows\n"
      ],
      "metadata": {
        "colab": {
          "base_uri": "https://localhost:8080/"
        },
        "id": "f6j2amtOjq0T",
        "outputId": "6ef3fd64-0a19-43c2-d20c-cdd4bbfea345"
      },
      "execution_count": null,
      "outputs": [
        {
          "output_type": "stream",
          "name": "stdout",
          "text": [
            "Animal makes a sound\n",
            "Dog barks\n",
            "Cat meows\n"
          ]
        }
      ]
    },
    {
      "cell_type": "markdown",
      "source": [
        "13. What is a property decorator in Python?\n",
        "- The @property decorator in Python is used to define a method as a property, allowing you to access it like an attribute, while still using method logic behind the scenes.\n",
        "- Why Use @property?\n",
        "   -  To control access to private attributes (encapsulation).\n",
        "   -  To define read-only attributes.\n",
        "   -  To compute values dynamically while using dot notation (like obj.value instead of obj.get_value()).\n",
        "   ```\n",
        "   class Circle:\n",
        "    def __init__(self, radius):\n",
        "        self._radius = radius  # Private attribute by convention\n",
        "\n",
        "    @property\n",
        "    def area(self):\n",
        "        return 3.14 * self._radius ** 2\n",
        "\n",
        "    # Usage\n",
        "    c = Circle(5)\n",
        "    print(c.area)  # Output: 78.5\n",
        "    ```\n",
        "\n",
        "\n"
      ],
      "metadata": {
        "id": "CvVEPgkbjtnA"
      }
    },
    {
      "cell_type": "markdown",
      "source": [
        "14. Why is polymorphism important in OOP?\n",
        "- Polymorphism is crucial in OOP because it allows one interface to be used for different underlying forms (data types or classes). In simpler terms, it lets the same method name work in different ways, depending on the object it's acting on.\n",
        "- Benefits of Polymorphism in OOP:\n",
        "    1. Code Reusability :- you can write general code that works with many types of objects.\n",
        "    2. Extensibility :- You can add new classes (types of objects) without changing the existing code.\n",
        "    3. Improved Readability and Maintainability :- Using a common interface makes code easier to read, test, and debug.\n",
        "    4. Supports Dynamic Method Binding (Runtime Polymorphism) :- The decision of which method to call is made at runtime, not compile time. This is helpful in real-world programs like GUIs, games, or APIs where the exact object type may not be known in advance.\n",
        "\n"
      ],
      "metadata": {
        "id": "YRRJ5Bgdj0PL"
      }
    },
    {
      "cell_type": "markdown",
      "source": [
        "15. What is an abstract class in Python?\n",
        "- An abstract class is a class that cannot be instantiated (i.e., you can’t create objects from it directly) and is designed to be inherited by other classes.\n",
        "- It can define methods without implementing them. These are called abstract methods.\n",
        "- How to Create an Abstract Class:\n",
        "    1. Import ABC and abstractmethod from the abc module\n",
        "    2. Inherit from ABC\n",
        "    3. Use @abstractmethod decorator\n",
        "- Why Use Abstract Classes?\n",
        "   - To define a common interface for a group of related classes.\n",
        "   - To force subclasses to implement specific methods.\n",
        "   - To create structured and scalable code in large applications.\n",
        "\n",
        "\n"
      ],
      "metadata": {
        "id": "3momBwEakl34"
      }
    },
    {
      "cell_type": "code",
      "source": [
        "from abc import ABC, abstractmethod\n",
        "\n",
        "class Shape(ABC):  # Abstract class\n",
        "    @abstractmethod\n",
        "    def area(self):\n",
        "        pass  # Abstract method, no body\n",
        "\n",
        "    @abstractmethod\n",
        "    def perimeter(self):\n",
        "        pass\n"
      ],
      "metadata": {
        "id": "d7hjn15KlPwx"
      },
      "execution_count": null,
      "outputs": []
    },
    {
      "cell_type": "markdown",
      "source": [
        "16. What are the advantages of OOP?\n",
        "- Object-Oriented Programming offers several powerful benefits that help you write cleaner, reusable, and more organized code, especially for large and complex applications.\n",
        "1. Modularity :\n",
        "    -  Code is organized into classes and objects, making it easy to manage and understand.\n",
        "    -  Each object is independent and has its own data and behavior.\n",
        "2. Reusability (via Inheritance) :    \n",
        "    - You can reuse code from existing classes using inheritance, reducing redundancy.\n",
        "3. Data Protection (Encapsulation) :\n",
        "    - Objects hide internal details from the outside world and expose only what is necessary.\n",
        "    - Helps protect data and ensures it's accessed in a controlled way.\n",
        "4. Polymorphism :    \n",
        "    - Same method name can behave differently depending on the object.\n",
        "    - Makes code flexible and easier to extend.\n",
        "5. Abstraction :    \n",
        "    - You can hide complex implementation details and show only the important features.\n",
        "    - Helps reduce complexity and improves usability of code.\n"
      ],
      "metadata": {
        "id": "SxvH7l9zlTrT"
      }
    },
    {
      "cell_type": "markdown",
      "source": [
        "17. What is the difference between a class variable and an instance variable?\n",
        "- In Python's object-oriented programming, both class variables and instance variables store data, but they are used in different ways and have different scopes.\n",
        "1. Instance Variable\n",
        "    -  Belongs to: Each object (instance) of the class.\n",
        "    -  Defined using: self.variable_name\n",
        "    -  Unique for each object.\n",
        "    -  Modified by: That specific object only.\n",
        "      ```\n",
        "      class Student:\n",
        "    def __init__(self, name):\n",
        "        self.name = name  # instance variable\n",
        "\n",
        "    s1 = Student(\"Anisha\")\n",
        "    s2 = Student(\"Aarohi\")\n",
        "    print(s1.name)  # Anisha\n",
        "    print(s2.name)  # Aarohi\n",
        "      ```\n",
        "2. Class Variable\n",
        "    - Belongs to: The class itself, shared by all objects.\n",
        "    -  Defined outside __init__(), directly in the class body.\n",
        "    -  Same value for all instances unless changed at the class level.\n",
        "      ```\n",
        "      class Student:\n",
        "    school = \"ABC School\"  # class variable\n",
        "\n",
        "    def __init__(self, name):\n",
        "        self.name = name  # instance variable\n",
        "\n",
        "    s1 = Student(\"Anisha\")\n",
        "    s2 = Student(\"Aarohi\")\n",
        "    print(s1.school)  # ABC School\n",
        "    print(s2.school)  # ABC School\n",
        "    Student.school = \"XYZ School\"\n",
        "    print(s1.school)  # XYZ School (affected both objects)\n",
        "      ```\n",
        "\n",
        "\n",
        "\n"
      ],
      "metadata": {
        "id": "1L-tzO96mXc1"
      }
    },
    {
      "cell_type": "code",
      "source": [
        "class Employee:\n",
        "    company = \"TechCorp\"  # class variable\n",
        "\n",
        "    def __init__(self, name):\n",
        "        self.name = name  # instance variable\n",
        "\n",
        "e1 = Employee(\"Alice\")\n",
        "e2 = Employee(\"Bob\")\n",
        "\n",
        "print(e1.name)      # Alice\n",
        "print(e2.name)      # Bob\n",
        "print(e1.company)   # TechCorp\n",
        "print(e2.company)   # TechCorp\n"
      ],
      "metadata": {
        "colab": {
          "base_uri": "https://localhost:8080/"
        },
        "id": "rKLiFJwrnZdN",
        "outputId": "8d22cc6a-7e82-4662-e7c5-6b5df8441994"
      },
      "execution_count": null,
      "outputs": [
        {
          "output_type": "stream",
          "name": "stdout",
          "text": [
            "Alice\n",
            "Bob\n",
            "TechCorp\n",
            "TechCorp\n"
          ]
        }
      ]
    },
    {
      "cell_type": "markdown",
      "source": [
        "18. What is multiple inheritance in Python?\n",
        "- Multiple Inheritance is a feature in Python where a class can inherit from more than one parent class. This means a child class can access the attributes and methods of multiple base classes.\n",
        "- Syntax\n",
        "      ```\n",
        "      class Parent1:\n",
        "         # code\n",
        "\n",
        "      class Parent2:\n",
        "          # code\n",
        "\n",
        "      class Child(Parent1, Parent2):\n",
        "          # code\n",
        "      ```\n",
        "\n",
        "\n"
      ],
      "metadata": {
        "id": "cUnCjAs0nb9O"
      }
    },
    {
      "cell_type": "code",
      "source": [
        "class Father:\n",
        "    def skills(self):\n",
        "        print(\"Can drive and fix things\")\n",
        "\n",
        "class Mother:\n",
        "    def skills(self):\n",
        "        print(\"Can cook and teach\")\n",
        "\n",
        "class Child(Father, Mother):\n",
        "    pass\n",
        "\n",
        "c = Child()\n",
        "c.skills()\n"
      ],
      "metadata": {
        "colab": {
          "base_uri": "https://localhost:8080/"
        },
        "id": "tn_q8i1KoBdB",
        "outputId": "ee48cd9c-5a4b-4838-ed0c-3db9ca20f23c"
      },
      "execution_count": null,
      "outputs": [
        {
          "output_type": "stream",
          "name": "stdout",
          "text": [
            "Can drive and fix things\n"
          ]
        }
      ]
    },
    {
      "cell_type": "markdown",
      "source": [
        "19.  Explain the purpose of ‘’__str__’ and ‘__repr__’ ‘ methods in Python.\n",
        "- Both __str__() and __repr__() are special methods in Python used to define how objects are represented as strings.\n",
        "- __str__() :- User-friendly Representation\n",
        "    - Called by str(obj) or print(obj).\n",
        "    - Used to return a readable, informal string representation of the object.\n",
        "    - Meant for end-users.\n",
        "       ```\n",
        "          class Book:\n",
        "          def __init__(self, title):\n",
        "              self.title = title\n",
        "\n",
        "          def __str__(self):\n",
        "              return f\"Book: {self.title}\"\n",
        "\n",
        "          b = Book(\"1984\")\n",
        "          print(b)  # Output: Book: 1984\n",
        "        ```\n",
        "- __repr__() :- Official/Developer-friendly Representation\n",
        "    -  Called by repr(obj) or in the interactive interpreter (e.g., just typing obj).\n",
        "    -  Used to return an official, unambiguous string representation of the object.\n",
        "    -  Meant for developers and debugging.\n",
        "    -  Should return a string that could ideally recreate the object.\n",
        "      ```\n",
        "      class Book:\n",
        "          def __init__(self, title):\n",
        "              self.title = title\n",
        "\n",
        "          def __repr__(self):\n",
        "              return f\"Book('{self.title}')\"\n",
        "\n",
        "      b = Book(\"1984\")\n",
        "      print(repr(b))  # Output: Book('1984')\n",
        "      ```\n"
      ],
      "metadata": {
        "id": "ah__RbD9oFH1"
      }
    },
    {
      "cell_type": "markdown",
      "source": [
        "20. What is the significance of the ‘super()’ function in Python?\n",
        "- The super() function is used in class inheritance to call methods from a parent (super) class. It's especially useful when you're working with:\n",
        "  -  Method overriding\n",
        "  -  Constructor chaining\n",
        "  -  Multiple inheritance\n",
        "- Key Purposes of super():\n",
        "  -  Access the parent class without naming it directly\n",
        "  -  Avoid code duplication\n",
        "  -  Ensure proper method resolution order (MRO) in multiple inheritance\n",
        "  \n"
      ],
      "metadata": {
        "id": "jB4lswreoQ1e"
      }
    },
    {
      "cell_type": "markdown",
      "source": [
        "21.  What is the significance of the __del__ method in Python?\n",
        "- The __del__() method is a special method in Python known as a destructor. It is called automatically when an object is about to be destroyed, typically when:\n",
        "   - The object goes out of scope\n",
        "   - There are no more references to the object\n",
        "- Purpose of __del__():\n",
        "   - To release external resources (like files, network connections, or database handles)\n",
        "   - To perform cleanup operations before the object is removed from memory\n",
        "```\n",
        "class FileHandler:\n",
        "    def __init__(self, filename):\n",
        "        self.file = open(filename, 'w')\n",
        "        print(\"File opened.\")\n",
        "\n",
        "    def write_data(self, data):\n",
        "        self.file.write(data)\n",
        "\n",
        "    def __del__(self):\n",
        "        self.file.close()\n",
        "        print(\"File closed.\")\n",
        "\n",
        "      # Usage\n",
        "      handler = FileHandler(\"demo.txt\")\n",
        "      handler.write_data(\"Hello, world!\")\n",
        "\n",
        "    # When 'handler' is deleted or goes out of scope, __del__ is called\n",
        "    del handler  # Output: File closed.\n",
        "```\n"
      ],
      "metadata": {
        "id": "3TTxiVvgoUwp"
      }
    },
    {
      "cell_type": "markdown",
      "source": [
        "22. What is the difference between @staticmethod and @classmethod in Python?\n",
        "- Both class methods and static methods are special types of methods that belong to a class rather than an instance. They are defined using decorators:\n",
        "\n",
        "-  Class Method\n",
        "    -  Defined using the @classmethod decorator.\n",
        "    -  Takes cls (the class itself) as the first argument.\n",
        "    -  Can access or modify class state that applies across all instances.\n",
        "    -  Use case: Useful for creating alternative constructors or working with class-level data.\n",
        "    ```\n",
        "      class MyClass:\n",
        "      count = 0\n",
        "\n",
        "      def __init__(self):\n",
        "          MyClass.count += 1\n",
        "\n",
        "      @classmethod\n",
        "      def get_count(cls):\n",
        "          return cls.count\n",
        "\n",
        "      # Example\n",
        "      obj1 = MyClass()\n",
        "      obj2 = MyClass()\n",
        "      print(MyClass.get_count())  # Output: 2\n",
        "      ```\n",
        "- Static Method\n",
        "    -  Defined using the @staticmethod decorator.\n",
        "    -  Takes no self or cls as the first argument.\n",
        "    -  Cannot access or modify class or instance state.\n",
        "    -  Behaves like a regular function inside a class.\n",
        "    -  Use case: Useful for utility functions that are related to the class but don’t need access to class or instance variables.\n",
        "    ```\n",
        "      class MathUtils:\n",
        "      @staticmethod\n",
        "      def add(a, b):\n",
        "          return a + b\n",
        "\n",
        "      # Example\n",
        "      print(MathUtils.add(3, 4))  # Output: 7\n",
        "      ```"
      ],
      "metadata": {
        "id": "x4IGhN_noY_M"
      }
    },
    {
      "cell_type": "markdown",
      "source": [
        "23. How does polymorphism work in Python with inheritance?\n",
        "- Polymorphism means “many forms”. In Python, it allows the same method name to behave differently depending on the object that calls it. When used with inheritance, polymorphism enables method overriding, where child classes provide their own implementation of a method defined in the parent class.\n",
        "\n",
        "- How It Works with Inheritance:\n",
        "  -  A base class defines a method.\n",
        "  -  Derived classes override that method with their own behavior.\n",
        "  -  You can use a common interface (like a base class reference) to call the method — Python will call the appropriate method based on the object's type at runtime.\n",
        "-  Example: Polymorphism with Inheritance\n",
        "```\n",
        "    class Animal:\n",
        "        def speak(self):\n",
        "            print(\"Some animal sound\")\n",
        "\n",
        "    class Dog(Animal):\n",
        "        def speak(self):\n",
        "            print(\"Bark\")\n",
        "\n",
        "    class Cat(Animal):\n",
        "        def speak(self):\n",
        "            print(\"Meow\")\n",
        "\n",
        "    # Polymorphic behavior\n",
        "    def make_animal_speak(animal):\n",
        "        animal.speak()\n",
        "\n",
        "    # Objects of different subclasses\n",
        "    a = Animal()\n",
        "    d = Dog()\n",
        "    c = Cat()\n",
        "\n",
        "    make_animal_speak(a)  # Output: Some animal sound\n",
        "    make_animal_speak(d)  # Output: Bark\n",
        "    make_animal_speak(c)  # Output: Meow\n",
        "```"
      ],
      "metadata": {
        "id": "AP6YvNYGodMn"
      }
    },
    {
      "cell_type": "markdown",
      "source": [
        "24.  What is method chaining in Python OOP?\n",
        "- Method chaining is a programming technique in object-oriented Python where multiple method calls are chained together in a single line using dot (.) notation.\n",
        "- This is possible when each method returns self (the instance), allowing the next method to be called on the same object.\n",
        "- Why Use Method Chaining?\n",
        "   - Improves readability and fluency of the code.\n",
        "   - Allows compact and step-by-step object manipulation.\n",
        "   - Popular in frameworks and libraries (e.g., Pandas, Flask, SQLAlchemy).\n",
        "\n",
        "\n",
        "\n"
      ],
      "metadata": {
        "id": "M4wVBUb1ojXE"
      }
    },
    {
      "cell_type": "code",
      "source": [
        "class Person:\n",
        "    def __init__(self, name=\"\"):\n",
        "        self.name = name\n",
        "        self.age = 0\n",
        "        self.city = \"\"\n",
        "\n",
        "    def set_name(self, name):\n",
        "        self.name = name\n",
        "        return self\n",
        "\n",
        "    def set_age(self, age):\n",
        "        self.age = age\n",
        "        return self\n",
        "\n",
        "    def set_city(self, city):\n",
        "        self.city = city\n",
        "        return self\n",
        "\n",
        "    def show_info(self):\n",
        "        print(f\"Name: {self.name}, Age: {self.age}, City: {self.city}\")\n",
        "        return self\n",
        "\n",
        "# Method chaining in action\n",
        "p = Person().set_name(\"Anisha\").set_age(21).set_city(\"Delhi\").show_info()\n"
      ],
      "metadata": {
        "colab": {
          "base_uri": "https://localhost:8080/"
        },
        "id": "g0FL_fM-mzq8",
        "outputId": "d6cea337-43bc-48c2-c115-7a28fac9e76a"
      },
      "execution_count": 18,
      "outputs": [
        {
          "output_type": "stream",
          "name": "stdout",
          "text": [
            "Name: Anisha, Age: 21, City: Delhi\n"
          ]
        }
      ]
    },
    {
      "cell_type": "markdown",
      "source": [
        " 25. What is the purpose of the __call__ method in Python?\n",
        " - The __call__() method is a special (dunder) method in Python that allows an object to be called like a function.\n",
        "\n",
        "- Purpose of __call__():\n",
        "It lets you make instances of a class behave like functions. When you \"call\" an object using object(), Python internally executes object.__call__().\n",
        "\n"
      ],
      "metadata": {
        "id": "BVDvBlG6onBF"
      }
    },
    {
      "cell_type": "code",
      "source": [
        "class Greeter:\n",
        "    def __init__(self, name):\n",
        "        self.name = name\n",
        "\n",
        "    def __call__(self):\n",
        "        print(f\"Hello, {self.name}!\")\n",
        "\n",
        "# Creating an object\n",
        "greet = Greeter(\"Anisha\")\n",
        "\n",
        "# Calling the object like a function\n",
        "greet()  # Internally calls greet.__call__()\n"
      ],
      "metadata": {
        "colab": {
          "base_uri": "https://localhost:8080/"
        },
        "id": "CCGpos4hnFew",
        "outputId": "507bc9e0-8c67-4a3d-e5ad-78bd14a7e2e2"
      },
      "execution_count": 19,
      "outputs": [
        {
          "output_type": "stream",
          "name": "stdout",
          "text": [
            "Hello, Anisha!\n"
          ]
        }
      ]
    },
    {
      "cell_type": "markdown",
      "source": [
        "# Practical Questions"
      ],
      "metadata": {
        "id": "XjYQpU6Noshh"
      }
    },
    {
      "cell_type": "markdown",
      "source": [
        "1.  Create a parent class Animal with a method speak() that prints a generic message. Create a child class Dog\n",
        "that overrides the speak() method to print \"Bark!\"."
      ],
      "metadata": {
        "id": "OTrZOo6-oxZ4"
      }
    },
    {
      "cell_type": "code",
      "source": [
        "class Animal:\n",
        "  def speak(self):\n",
        "    print(\"hello\")\n",
        "class Dog(Animal):\n",
        "  def speak(self):\n",
        "    print(\"bark\")\n",
        "golden_retriever=Dog()\n",
        "golden_retriever.speak()\n"
      ],
      "metadata": {
        "colab": {
          "base_uri": "https://localhost:8080/"
        },
        "id": "baWpycGBoq2j",
        "outputId": "700b2730-da0a-4b1f-a33b-cc7c3e51bb5b"
      },
      "execution_count": null,
      "outputs": [
        {
          "output_type": "stream",
          "name": "stdout",
          "text": [
            "bark\n"
          ]
        }
      ]
    },
    {
      "cell_type": "markdown",
      "source": [
        "2.  Write a program to create an abstract class Shape with a method area(). Derive classes Circle and Rectangle\n",
        "from it and implement the area() method in both."
      ],
      "metadata": {
        "id": "vwewXgOzo13H"
      }
    },
    {
      "cell_type": "code",
      "source": [
        "from abc import ABC,abstractmethod\n",
        "class Shape(ABC):\n",
        "  @abstractmethod\n",
        "  def area(self):\n",
        "    pass\n",
        "class Circle(Shape):\n",
        "  def __init__(self,radius):\n",
        "    self.r=radius\n",
        "  def area(self):\n",
        "    print(\"the area of circle is\",22/7*self.r**2)\n",
        "class Rectangle(Shape):\n",
        "  def __init__(self,length,breadth):\n",
        "    self.l=length\n",
        "    self.b=breadth\n",
        "  def area(self):\n",
        "    print(\"the area of rectangle is \",self.l*self.b)\n",
        "\n",
        "\n",
        "circle=Circle(4)\n",
        "circle.area()\n",
        "\n",
        "rectangle = Rectangle(4,5)\n",
        "rectangle.area()\n",
        "\n"
      ],
      "metadata": {
        "colab": {
          "base_uri": "https://localhost:8080/"
        },
        "id": "PXCKHgYpo9YU",
        "outputId": "33e0a4ec-ef54-4ca0-a805-bee7b8c9e48b"
      },
      "execution_count": null,
      "outputs": [
        {
          "output_type": "stream",
          "name": "stdout",
          "text": [
            "the area of circle is 50.285714285714285\n",
            "the area of rectangle is  20\n"
          ]
        }
      ]
    },
    {
      "cell_type": "markdown",
      "source": [
        "3. Implement a multi-level inheritance scenario where a class Vehicle has an attribute type. Derive a class Car\n",
        "and further derive a class ElectricCar that adds a battery attribute."
      ],
      "metadata": {
        "id": "GEDnsKFso-H4"
      }
    },
    {
      "cell_type": "code",
      "source": [
        "# Base class\n",
        "class Vehicle:\n",
        "    def __init__(self, vehicle_type):\n",
        "        self.type = vehicle_type\n",
        "\n",
        "    def display_info(self):\n",
        "        print(f\"Vehicle Type: {self.type}\")\n",
        "\n",
        "# Derived class from Vehicle\n",
        "class Car(Vehicle):\n",
        "    def __init__(self, vehicle_type, brand):\n",
        "        super().__init__(vehicle_type)\n",
        "        self.brand = brand\n",
        "\n",
        "    def display_info(self):\n",
        "        super().display_info()\n",
        "        print(f\"Car Brand: {self.brand}\")\n",
        "\n",
        "# Further derived class from Car\n",
        "class ElectricCar(Car):\n",
        "    def __init__(self, vehicle_type, brand, battery_capacity):\n",
        "        super().__init__(vehicle_type, brand)\n",
        "        self.battery = battery_capacity\n",
        "\n",
        "    def display_info(self):\n",
        "        super().display_info()\n",
        "        print(f\"Battery Capacity: {self.battery} kWh\")\n",
        "\n",
        "\n",
        "# Example usage\n",
        "ecar = ElectricCar(\"Four-Wheeler\", \"Tesla\", 75)\n",
        "ecar.display_info()\n"
      ],
      "metadata": {
        "id": "Fz7tBDz8pDYs",
        "colab": {
          "base_uri": "https://localhost:8080/"
        },
        "outputId": "46da2a4a-8867-4ec2-91ee-be96fde464a9"
      },
      "execution_count": 1,
      "outputs": [
        {
          "output_type": "stream",
          "name": "stdout",
          "text": [
            "Vehicle Type: Four-Wheeler\n",
            "Car Brand: Tesla\n",
            "Battery Capacity: 75 kWh\n"
          ]
        }
      ]
    },
    {
      "cell_type": "markdown",
      "source": [
        "4. Demonstrate polymorphism by creating a base class Bird with a method fly(). Create two derived classes\n",
        "Sparrow and Penguin that override the fly() method.\n",
        "\n",
        "\n"
      ],
      "metadata": {
        "id": "Pvbky5FbpD-X"
      }
    },
    {
      "cell_type": "code",
      "source": [
        "# Base class\n",
        "class Bird:\n",
        "    def fly(self):\n",
        "        print(\"Some birds can fly.\")\n",
        "\n",
        "# Derived class 1\n",
        "class Sparrow(Bird):\n",
        "    def fly(self):\n",
        "        print(\"Sparrow flies high in the sky.\")\n",
        "\n",
        "# Derived class 2\n",
        "class Penguin(Bird):\n",
        "    def fly(self):\n",
        "        print(\"Penguins can't fly, they swim instead.\")\n",
        "\n",
        "# Polymorphism demonstration\n",
        "def bird_flight(bird):\n",
        "    bird.fly()\n",
        "\n",
        "# Create instances\n",
        "sparrow = Sparrow()\n",
        "penguin = Penguin()\n",
        "\n",
        "# Pass different bird objects to the same function\n",
        "bird_flight(sparrow)   # Output: Sparrow flies high in the sky.\n",
        "bird_flight(penguin)   # Output: Penguins can't fly, they swim instead.\n"
      ],
      "metadata": {
        "id": "uiypSgi7pHCW",
        "colab": {
          "base_uri": "https://localhost:8080/"
        },
        "outputId": "b6dba2e2-60b8-4dfe-806a-af5da429881e"
      },
      "execution_count": 2,
      "outputs": [
        {
          "output_type": "stream",
          "name": "stdout",
          "text": [
            "Sparrow flies high in the sky.\n",
            "Penguins can't fly, they swim instead.\n"
          ]
        }
      ]
    },
    {
      "cell_type": "markdown",
      "source": [
        "5.  Write a program to demonstrate encapsulation by creating a class BankAccount with private attributes\n",
        "balance and methods to deposit, withdraw, and check balance."
      ],
      "metadata": {
        "id": "r2OIdqvqpH0V"
      }
    },
    {
      "cell_type": "code",
      "source": [
        "class BankAccount:\n",
        "    def __init__(self, initial_balance=0):\n",
        "        self.__balance = initial_balance  # Private attribute\n",
        "\n",
        "    # Method to deposit money\n",
        "    def deposit(self, amount):\n",
        "        if amount > 0:\n",
        "            self.__balance += amount\n",
        "            print(f\"Deposited ₹{amount}\")\n",
        "        else:\n",
        "            print(\"Deposit amount must be positive.\")\n",
        "\n",
        "    # Method to withdraw money\n",
        "    def withdraw(self, amount):\n",
        "        if amount > 0:\n",
        "            if self.__balance >= amount:\n",
        "                self.__balance -= amount\n",
        "                print(f\"Withdrew ₹{amount}\")\n",
        "            else:\n",
        "                print(\"Insufficient balance.\")\n",
        "        else:\n",
        "            print(\"Withdrawal amount must be positive.\")\n",
        "\n",
        "    # Method to check balance\n",
        "    def check_balance(self):\n",
        "        print(f\"Current Balance: ₹{self.__balance}\")\n",
        "\n",
        "\n",
        "# Example usage\n",
        "account = BankAccount(1000)\n",
        "account.check_balance()    # Output: Current Balance: ₹1000\n",
        "account.deposit(500)       # Output: Deposited ₹500\n",
        "account.withdraw(200)      # Output: Withdrew ₹200\n",
        "account.check_balance()    # Output: Current Balance: ₹1300\n",
        "\n",
        "# Trying to access private attribute directly (not recommended)\n",
        "# print(account.__balance)  # This will raise an AttributeError\n"
      ],
      "metadata": {
        "id": "wBIdhV_kpMn1",
        "colab": {
          "base_uri": "https://localhost:8080/"
        },
        "outputId": "166fbacb-3d66-4da6-cdc3-e22e28e54fc8"
      },
      "execution_count": 3,
      "outputs": [
        {
          "output_type": "stream",
          "name": "stdout",
          "text": [
            "Current Balance: ₹1000\n",
            "Deposited ₹500\n",
            "Withdrew ₹200\n",
            "Current Balance: ₹1300\n"
          ]
        }
      ]
    },
    {
      "cell_type": "markdown",
      "source": [
        "6. Demonstrate runtime polymorphism using a method play() in a base class Instrument. Derive classes Guitar\n",
        "and Piano that implement their own version of play()."
      ],
      "metadata": {
        "id": "TQQkOvtipNZp"
      }
    },
    {
      "cell_type": "code",
      "source": [
        "# Base class\n",
        "class Instrument:\n",
        "    def play(self):\n",
        "        print(\"Playing an instrument.\")\n",
        "\n",
        "# Derived class 1\n",
        "class Guitar(Instrument):\n",
        "    def play(self):\n",
        "        print(\"Strumming the guitar.\")\n",
        "\n",
        "# Derived class 2\n",
        "class Piano(Instrument):\n",
        "    def play(self):\n",
        "        print(\"Playing the piano keys.\")\n",
        "\n",
        "# Function that demonstrates runtime polymorphism\n",
        "def perform(instrument):\n",
        "    instrument.play()\n",
        "\n",
        "# Create instances\n",
        "g = Guitar()\n",
        "p = Piano()\n",
        "\n",
        "# Polymorphism in action\n",
        "perform(g)  # Output: Strumming the guitar.\n",
        "perform(p)  # Output: Playing the piano keys.\n"
      ],
      "metadata": {
        "id": "jso9PwrxpUjx",
        "colab": {
          "base_uri": "https://localhost:8080/"
        },
        "outputId": "f4527b2e-8c0a-465d-81cb-5dcb3b285da2"
      },
      "execution_count": 4,
      "outputs": [
        {
          "output_type": "stream",
          "name": "stdout",
          "text": [
            "Strumming the guitar.\n",
            "Playing the piano keys.\n"
          ]
        }
      ]
    },
    {
      "cell_type": "markdown",
      "source": [
        "7. Create a class MathOperations with a class method add_numbers() to add two numbers and a static\n",
        "method subtract_numbers() to subtract two numbers."
      ],
      "metadata": {
        "id": "wEeMMJvkpVD2"
      }
    },
    {
      "cell_type": "code",
      "source": [
        "class MathOperations:\n",
        "    # Class method to add two numbers\n",
        "    @classmethod\n",
        "    def add_numbers(cls, a, b):\n",
        "        return a + b\n",
        "\n",
        "    # Static method to subtract two numbers\n",
        "    @staticmethod\n",
        "    def subtract_numbers(a, b):\n",
        "        return a - b\n",
        "\n",
        "# Example usage\n",
        "sum_result = MathOperations.add_numbers(10, 5)\n",
        "print(f\"Sum: {sum_result}\")  # Output: Sum: 15\n",
        "\n",
        "difference = MathOperations.subtract_numbers(10, 5)\n",
        "print(f\"Difference: {difference}\")  # Output: Difference: 5\n",
        "\n"
      ],
      "metadata": {
        "id": "vJxIRrcBpYSS",
        "colab": {
          "base_uri": "https://localhost:8080/"
        },
        "outputId": "fabb50ef-41fe-4ec5-d59d-669dcb081c67"
      },
      "execution_count": 5,
      "outputs": [
        {
          "output_type": "stream",
          "name": "stdout",
          "text": [
            "Sum: 15\n",
            "Difference: 5\n"
          ]
        }
      ]
    },
    {
      "cell_type": "markdown",
      "source": [
        "8. Implement a class Person with a class method to count the total number of persons created"
      ],
      "metadata": {
        "id": "1IyGqeXApYzJ"
      }
    },
    {
      "cell_type": "code",
      "source": [
        "class Person:\n",
        "    # Class variable to keep track of number of persons\n",
        "    count = 0\n",
        "\n",
        "    def __init__(self, name):\n",
        "        self.name = name\n",
        "        Person.count += 1  # Increment count every time a new object is created\n",
        "\n",
        "    # Class method to return the total number of persons created\n",
        "    @classmethod\n",
        "    def get_person_count(cls):\n",
        "        return cls.count\n",
        "\n",
        "# Creating person objects\n",
        "p1 = Person(\"Alice\")\n",
        "p2 = Person(\"Bob\")\n",
        "p3 = Person(\"Charlie\")\n",
        "\n",
        "# Getting total count using class method\n",
        "print(f\"Total Persons Created: {Person.get_person_count()}\")  # Output: 3\n"
      ],
      "metadata": {
        "id": "yMdQyMpdpbxi",
        "colab": {
          "base_uri": "https://localhost:8080/"
        },
        "outputId": "9fe54a09-2c79-4aaa-e634-c95578be5220"
      },
      "execution_count": 6,
      "outputs": [
        {
          "output_type": "stream",
          "name": "stdout",
          "text": [
            "Total Persons Created: 3\n"
          ]
        }
      ]
    },
    {
      "cell_type": "markdown",
      "source": [
        "9. Write a class Fraction with attributes numerator and denominator. Override the str method to display the\n",
        "fraction as \"numerator/denominator\"."
      ],
      "metadata": {
        "id": "mpnwTaFUpckt"
      }
    },
    {
      "cell_type": "code",
      "source": [
        "class Fraction:\n",
        "    def __init__(self, numerator, denominator):\n",
        "        self.numerator = numerator\n",
        "        # Ensure denominator is not zero\n",
        "        if denominator == 0:\n",
        "            raise ValueError(\"Denominator cannot be zero.\")\n",
        "        self.denominator = denominator\n",
        "\n",
        "    # Override the __str__ method to display the fraction\n",
        "    def __str__(self):\n",
        "        return f\"{self.numerator}/{self.denominator}\"\n",
        "\n",
        "# Example usage\n",
        "f1 = Fraction(3, 4)\n",
        "print(f1)  # Output: 3/4\n",
        "\n",
        "f2 = Fraction(5, 1)\n",
        "print(f2)  # Output: 5/1\n"
      ],
      "metadata": {
        "id": "HToLDqCBphxD",
        "colab": {
          "base_uri": "https://localhost:8080/"
        },
        "outputId": "4386f372-8700-41fc-8a0f-d8f2adf91fae"
      },
      "execution_count": 8,
      "outputs": [
        {
          "output_type": "stream",
          "name": "stdout",
          "text": [
            "3/4\n",
            "5/1\n"
          ]
        }
      ]
    },
    {
      "cell_type": "markdown",
      "source": [
        "10.  Demonstrate operator overloading by creating a class Vector and overriding the add method to add two\n",
        "vectors."
      ],
      "metadata": {
        "id": "elY8MtA6piXF"
      }
    },
    {
      "cell_type": "code",
      "source": [
        "class Vector:\n",
        "    def __init__(self, x, y):\n",
        "        self.x = x\n",
        "        self.y = y\n",
        "\n",
        "    # Override the + operator\n",
        "    def __add__(self, other):\n",
        "        if isinstance(other, Vector):\n",
        "            return Vector(self.x + other.x, self.y + other.y)\n",
        "        return NotImplemented\n",
        "\n",
        "    # For readable string representation\n",
        "    def __str__(self):\n",
        "        return f\"Vector({self.x}, {self.y})\"\n",
        "\n",
        "# Example usage\n",
        "v1 = Vector(2, 3)\n",
        "v2 = Vector(4, 5)\n",
        "\n",
        "v3 = v1 + v2  # Uses overloaded __add__\n",
        "print(v3)     # Output: Vector(6, 8)\n"
      ],
      "metadata": {
        "id": "0zhBJH-xpmzI",
        "colab": {
          "base_uri": "https://localhost:8080/"
        },
        "outputId": "10e3a348-2561-4dc6-e2f1-55645af3f950"
      },
      "execution_count": 9,
      "outputs": [
        {
          "output_type": "stream",
          "name": "stdout",
          "text": [
            "Vector(6, 8)\n"
          ]
        }
      ]
    },
    {
      "cell_type": "markdown",
      "source": [
        "11. Create a class Person with attributes name and age. Add a method greet() that prints \"Hello, my name is\n",
        "{name} and I am {age} years old.\""
      ],
      "metadata": {
        "id": "D0GqxSDwpnWv"
      }
    },
    {
      "cell_type": "code",
      "source": [
        "class Person:\n",
        "    def __init__(self, name, age):\n",
        "        self.name = name\n",
        "        self.age = age\n",
        "\n",
        "    def greet(self):\n",
        "        print(f\"Hello, my name is {self.name} and I am {self.age} years old.\")\n",
        "\n",
        "# Example usage\n",
        "p1 = Person(\"Alice\", 25)\n",
        "p1.greet()  # Output: Hello, my name is Alice and I am 25 years old.\n"
      ],
      "metadata": {
        "id": "NlFig9O2prkg",
        "colab": {
          "base_uri": "https://localhost:8080/"
        },
        "outputId": "29788f41-9f97-4486-dd0c-3c1b1e32a88b"
      },
      "execution_count": 10,
      "outputs": [
        {
          "output_type": "stream",
          "name": "stdout",
          "text": [
            "Hello, my name is Alice and I am 25 years old.\n"
          ]
        }
      ]
    },
    {
      "cell_type": "markdown",
      "source": [
        "12. Implement a class Student with attributes name and grades. Create a method average_grade() to compute\n",
        "the average of the grades."
      ],
      "metadata": {
        "id": "bTrJVl5ApsRM"
      }
    },
    {
      "cell_type": "code",
      "source": [
        "class Student:\n",
        "    def __init__(self, name, grades):\n",
        "        self.name = name\n",
        "        self.grades = grades  # Expecting a list of numbers\n",
        "\n",
        "    def average_grade(self):\n",
        "        if not self.grades:\n",
        "            return 0  # Avoid division by zero\n",
        "        return sum(self.grades) / len(self.grades)\n",
        "\n",
        "# Example usage\n",
        "s1 = Student(\"Anisha\", [85, 90, 78, 92])\n",
        "print(f\"{s1.name}'s average grade is: {s1.average_grade():.2f}\")\n"
      ],
      "metadata": {
        "id": "oVNrGLlipvrQ",
        "colab": {
          "base_uri": "https://localhost:8080/"
        },
        "outputId": "2a080599-f411-445d-f7a1-687632495fbe"
      },
      "execution_count": 11,
      "outputs": [
        {
          "output_type": "stream",
          "name": "stdout",
          "text": [
            "Anisha's average grade is: 86.25\n"
          ]
        }
      ]
    },
    {
      "cell_type": "markdown",
      "source": [
        "13.  Create a class Rectangle with methods set_dimensions() to set the dimensions and area() to calculate the\n",
        "area."
      ],
      "metadata": {
        "id": "8xWuSPdZpxKq"
      }
    },
    {
      "cell_type": "code",
      "source": [
        "class Rectangle:\n",
        "    def __init__(self):\n",
        "        self.length = 0\n",
        "        self.width = 0\n",
        "\n",
        "    # Method to set dimensions\n",
        "    def set_dimensions(self, length, width):\n",
        "        self.length = length\n",
        "        self.width = width\n",
        "\n",
        "    # Method to calculate area\n",
        "    def area(self):\n",
        "        return self.length * self.width\n",
        "\n",
        "# Example usage\n",
        "rect = Rectangle()\n",
        "rect.set_dimensions(5, 3)\n",
        "print(f\"Area of Rectangle: {rect.area()}\")  # Output: Area of Rectangle: 15\n"
      ],
      "metadata": {
        "id": "2-2KyFw6p0be",
        "colab": {
          "base_uri": "https://localhost:8080/"
        },
        "outputId": "b396533d-67df-4a14-c76d-5156175863e2"
      },
      "execution_count": 12,
      "outputs": [
        {
          "output_type": "stream",
          "name": "stdout",
          "text": [
            "Area of Rectangle: 15\n"
          ]
        }
      ]
    },
    {
      "cell_type": "markdown",
      "source": [
        "14.  Create a class Employee with a method calculate_salary() that computes the salary based on hours worked\n",
        "and hourly rate. Create a derived class Manager that adds a bonus to the salary"
      ],
      "metadata": {
        "id": "4O9NXLCMp06i"
      }
    },
    {
      "cell_type": "code",
      "source": [
        "# Base class\n",
        "class Employee:\n",
        "    def __init__(self, name, hours_worked, hourly_rate):\n",
        "        self.name = name\n",
        "        self.hours_worked = hours_worked\n",
        "        self.hourly_rate = hourly_rate\n",
        "\n",
        "    def calculate_salary(self):\n",
        "        return self.hours_worked * self.hourly_rate\n",
        "\n",
        "# Derived class\n",
        "class Manager(Employee):\n",
        "    def __init__(self, name, hours_worked, hourly_rate, bonus):\n",
        "        super().__init__(name, hours_worked, hourly_rate)\n",
        "        self.bonus = bonus\n",
        "\n",
        "    def calculate_salary(self):\n",
        "        base_salary = super().calculate_salary()\n",
        "        return base_salary + self.bonus\n",
        "\n",
        "# Example usage\n",
        "emp = Employee(\"John\", 40, 25)\n",
        "print(f\"{emp.name}'s Salary: ₹{emp.calculate_salary()}\")  # Output: ₹1000\n",
        "\n",
        "mgr = Manager(\"Alice\", 40, 30, 500)\n",
        "print(f\"{mgr.name}'s Salary (with bonus): ₹{mgr.calculate_salary()}\")  # Output: ₹1700\n"
      ],
      "metadata": {
        "id": "fP4elGsup6Ku",
        "colab": {
          "base_uri": "https://localhost:8080/"
        },
        "outputId": "364ba719-27fc-4376-920c-5680a37fbede"
      },
      "execution_count": 13,
      "outputs": [
        {
          "output_type": "stream",
          "name": "stdout",
          "text": [
            "John's Salary: ₹1000\n",
            "Alice's Salary (with bonus): ₹1700\n"
          ]
        }
      ]
    },
    {
      "cell_type": "markdown",
      "source": [
        "15.  Create a class Product with attributes name, price, and quantity. Implement a method total_price() that\n",
        "calculates the total price of the product."
      ],
      "metadata": {
        "id": "D84uucwZp4XV"
      }
    },
    {
      "cell_type": "code",
      "source": [
        "class Product:\n",
        "    def __init__(self, name, price, quantity):\n",
        "        self.name = name\n",
        "        self.price = price      # Price per unit\n",
        "        self.quantity = quantity\n",
        "\n",
        "    def total_price(self):\n",
        "        return self.price * self.quantity\n",
        "\n",
        "# Example usage\n",
        "p1 = Product(\"Laptop\", 50000, 2)\n",
        "print(f\"Total price for {p1.name}s: ₹{p1.total_price()}\")  # Output: ₹100000\n"
      ],
      "metadata": {
        "id": "88tG7xmUp-uA",
        "colab": {
          "base_uri": "https://localhost:8080/"
        },
        "outputId": "419ffd0c-3efa-4340-ebc5-1ae99a8d9b19"
      },
      "execution_count": 14,
      "outputs": [
        {
          "output_type": "stream",
          "name": "stdout",
          "text": [
            "Total price for Laptops: ₹100000\n"
          ]
        }
      ]
    },
    {
      "cell_type": "markdown",
      "source": [
        "16.  Create a class Animal with an abstract method sound(). Create two derived classes Cow and Sheep that\n",
        "implement the sound() method."
      ],
      "metadata": {
        "id": "ivKQYQHndWiQ"
      }
    },
    {
      "cell_type": "code",
      "source": [
        "from abc import ABC, abstractmethod\n",
        "\n",
        "# Abstract base class\n",
        "class Animal(ABC):\n",
        "    @abstractmethod\n",
        "    def sound(self):\n",
        "        pass\n",
        "\n",
        "# Derived class 1\n",
        "class Cow(Animal):\n",
        "    def sound(self):\n",
        "        return \"Moo\"\n",
        "\n",
        "# Derived class 2\n",
        "class Sheep(Animal):\n",
        "    def sound(self):\n",
        "        return \"Baa\"\n",
        "\n",
        "# Example usage\n",
        "cow = Cow()\n",
        "sheep = Sheep()\n",
        "\n",
        "print(f\"Cow says: {cow.sound()}\")     # Output: Cow says: Moo\n",
        "print(f\"Sheep says: {sheep.sound()}\") # Output: Sheep says: Baa\n"
      ],
      "metadata": {
        "id": "UixydN3iqC5k",
        "colab": {
          "base_uri": "https://localhost:8080/"
        },
        "outputId": "7f22fe86-52e5-4baf-ae59-ea8956ccb1a7"
      },
      "execution_count": 15,
      "outputs": [
        {
          "output_type": "stream",
          "name": "stdout",
          "text": [
            "Cow says: Moo\n",
            "Sheep says: Baa\n"
          ]
        }
      ]
    },
    {
      "cell_type": "markdown",
      "source": [
        "17.  Create a class Book with attributes title, author, and year_published. Add a method get_book_info() that\n",
        "returns a formatted string with the book's details."
      ],
      "metadata": {
        "id": "lpl7QGV6qD88"
      }
    },
    {
      "cell_type": "code",
      "source": [
        "class Book:\n",
        "    def __init__(self, title, author, year_published):\n",
        "        self.title = title\n",
        "        self.author = author\n",
        "        self.year_published = year_published\n",
        "\n",
        "    def get_book_info(self):\n",
        "        return f\"'{self.title}' by {self.author} (Published: {self.year_published})\"\n",
        "\n",
        "# Example usage\n",
        "book1 = Book(\"To Kill a Mockingbird\", \"Harper Lee\", 1960)\n",
        "print(book1.get_book_info())  # Output: 'To Kill a Mockingbird' by Harper Lee (Published: 1960)\n"
      ],
      "metadata": {
        "id": "CuTGP6UDqIZ_",
        "colab": {
          "base_uri": "https://localhost:8080/"
        },
        "outputId": "6f263195-ba02-4d95-e650-b5ce1a776e2b"
      },
      "execution_count": 16,
      "outputs": [
        {
          "output_type": "stream",
          "name": "stdout",
          "text": [
            "'To Kill a Mockingbird' by Harper Lee (Published: 1960)\n"
          ]
        }
      ]
    },
    {
      "cell_type": "markdown",
      "source": [
        "18. Create a class House with attributes address and price. Create a derived class Mansion that adds an\n",
        "attribute number_of_rooms."
      ],
      "metadata": {
        "id": "VZ3oBPd7qI9m"
      }
    },
    {
      "cell_type": "code",
      "source": [
        "# Base class\n",
        "class House:\n",
        "    def __init__(self, address, price):\n",
        "        self.address = address\n",
        "        self.price = price\n",
        "\n",
        "    def get_details(self):\n",
        "        return f\"Address: {self.address}, Price: ₹{self.price}\"\n",
        "\n",
        "# Derived class\n",
        "class Mansion(House):\n",
        "    def __init__(self, address, price, number_of_rooms):\n",
        "        super().__init__(address, price)\n",
        "        self.number_of_rooms = number_of_rooms\n",
        "\n",
        "    def get_details(self):\n",
        "        base_details = super().get_details()\n",
        "        return f\"{base_details}, Rooms: {self.number_of_rooms}\"\n",
        "\n",
        "# Example usage\n",
        "m1 = Mansion(\"123 Luxury Lane, Mumbai\", 50000000, 10)\n",
        "print(m1.get_details())\n"
      ],
      "metadata": {
        "id": "rH1-tkjQqLyo",
        "colab": {
          "base_uri": "https://localhost:8080/"
        },
        "outputId": "d1f8df79-e483-4923-8fb8-9ddc361bec39"
      },
      "execution_count": 17,
      "outputs": [
        {
          "output_type": "stream",
          "name": "stdout",
          "text": [
            "Address: 123 Luxury Lane, Mumbai, Price: ₹50000000, Rooms: 10\n"
          ]
        }
      ]
    }
  ]
}