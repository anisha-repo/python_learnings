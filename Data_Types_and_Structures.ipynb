{
  "cells": [
    {
      "cell_type": "markdown",
      "metadata": {
        "id": "71xDdGOwq4mT"
      },
      "source": [
        "# Data Types and Structures Assignment"
      ]
    },
    {
      "cell_type": "markdown",
      "metadata": {
        "id": "oNQezr1givUo"
      },
      "source": [
        "1. **What are data structures, and why are they important?**\n",
        "    - Data structures are ways of organizing and storing data in a computer so that it can be accessed and modified efficiently.\n",
        "    - They define how data is arranged in memory and how operations like insertion, deletion, searching, and traversal can be performed.\n",
        "- **Importance of data structure :-**\n",
        "    - Efficiency :\tThey help in writing efficient algorithms that use minimal time and memory.\n",
        "    - Better Organization\tThey allow complex data to be managed logically (like trees, graphs, stacks).\n",
        "    - Reusability\tWell-designed data structures can be reused across multiple applications.\n",
        "    - Problem Solving\tMany real-world problems (e.g. shortest path, sorting, searching) are solved efficiently using the right data structure.\n",
        "    - Foundation for Algorithms\tAlgorithms are often built on top of specific data structures like heaps, hash tables, or trees."
      ]
    },
    {
      "cell_type": "markdown",
      "metadata": {
        "id": "HpHHKCpGj1GY"
      },
      "source": [
        "2. **Explain the difference between mutable and immutable data types with examples.**\n",
        "- **Mutable data types** :- it can be changed after creation and can be modified in place.\n",
        "- **Immutable data types** :- it can not be changed after creation and can not be modified."
      ]
    },
    {
      "cell_type": "code",
      "execution_count": null,
      "metadata": {
        "id": "-TAQK1ickgsz"
      },
      "outputs": [],
      "source": [
        "#example of list that is mutable\n",
        "my_list = [1, 2, 3]\n",
        "my_list[0] = 100\n",
        "print(my_list)  # Output: [100, 2, 3]\n",
        "#my_list was changed in place. No new object was created."
      ]
    },
    {
      "cell_type": "code",
      "execution_count": null,
      "metadata": {
        "id": "5lsJ3HBbkt7Q"
      },
      "outputs": [],
      "source": [
        "# example of string that is immutable\n",
        "my_str = \"hello\"\n",
        "my_str[0] = \"H\"   #  This will cause an error"
      ]
    },
    {
      "cell_type": "code",
      "execution_count": 2,
      "metadata": {
        "colab": {
          "base_uri": "https://localhost:8080/"
        },
        "id": "mL4UhJ27k8pJ",
        "outputId": "b9c5debb-f99e-4041-c026-3a5b3060b172"
      },
      "outputs": [
        {
          "name": "stdout",
          "output_type": "stream",
          "text": [
            "Hello\n"
          ]
        }
      ],
      "source": [
        "#this is proper way to create string\n",
        "my_str = \"hello\"\n",
        "new_str = \"H\" + my_str[1:]\n",
        "print(new_str)  # Output: Hello"
      ]
    },
    {
      "cell_type": "markdown",
      "metadata": {
        "id": "IOwlznlrldOF"
      },
      "source": [
        "3. **What are the main differences between lists and tuples in Python?**\n",
        "- lists :-\n",
        "    - lists are mutable\n",
        "    - lists are slightly slower that tuple\n",
        "    - many methods are available to corporate with list\n",
        "    - lists are used when there is a possibilty of changing the value.\n",
        "    - uses more memory\n",
        "    - it can't be used as dictionary key\n",
        "    - ```\n",
        "      # example\n",
        "      my_list = [1, 2, 3] #syntax\n",
        "      my_list.append(4) #mutability\n",
        "      print(my_list)  # Output: [1, 2, 3, 4]\n",
        "      ```\n",
        "-  tuples :-\n",
        "    - tuples are immuteable\n",
        "    - tuples are faster due to immuteablity\n",
        "    - fewer methods are available than lists\n",
        "    - used when there is need of value to be fixed\n",
        "    - it is more memory efficient\n",
        "    - it can be used as dictionary key\n",
        "    -\n",
        "      ```\n",
        "      # example\n",
        "      my_tuple = (1, 2, 3) #sytax\n",
        "      my_tuple[0] = 10  # Error: 'tuple' object does not support item assignment immuteability\n",
        "      ```\n",
        "\n",
        "\n"
      ]
    },
    {
      "cell_type": "markdown",
      "metadata": {
        "id": "GK1YXmekozl9"
      },
      "source": [
        "4. **Describe how dictionaries store data?**\n",
        "- A dictionary (dict) in Python stores data as key–value pairs.\n",
        "-   ```\n",
        "    #example\n",
        "    student = {\n",
        "    \"name\": \"Anisha\",\n",
        "    \"age\": 20,\n",
        "    \"course\": \"Data Analysis\"\n",
        "    }\n",
        "\n",
        "    ```\n",
        "- name\", \"age\", \"course\" → Keys\n",
        "- \"Anisha\", 20, \"Data Analysis\" → Values\n",
        "- Each key is unique and is used to look up its value quickly.\n",
        "\n",
        "   **How data is stored internally**\n",
        "- Python dictionaries use a data structure called a hash table to store data.\n",
        "- Steps:\n",
        "    -  Key is hashed using a hash function (a numeric code is generated).\n",
        "    - That hash is used to find an index in a memory array.\n",
        "    - The value is stored at that index along with its key.\n",
        "    - This allows very fast lookup, almost constant time O(1).\n",
        "\n"
      ]
    },
    {
      "cell_type": "code",
      "execution_count": null,
      "metadata": {
        "id": "qfRXTtUEmxjS"
      },
      "outputs": [],
      "source": [
        "#example\n",
        "person = {\"name\": \"Anisha\", \"age\": 20}\n",
        "\n",
        "# Add new key-value pair\n",
        "person[\"city\"] = \"Mumbai\"\n",
        "\n",
        "# Access value\n",
        "print(person[\"name\"])  # Output: Anisha\n",
        "\n",
        "# Update value\n",
        "person[\"age\"] = 21\n",
        "\n",
        "# Remove key-value\n",
        "del person[\"city\"]\n"
      ]
    },
    {
      "cell_type": "markdown",
      "metadata": {
        "id": "uAOWxojAnHkT"
      },
      "source": [
        "5. **Why might you use a set instead of a list in Python?**\n",
        "- set :-\n",
        "    - it doesn't allow duplicates element.\n",
        "    - it is unordered means no indexing.\n",
        "    - it is mutable.\n",
        "    - it is faster.\n",
        "    - it is used when there is need of unique items and fast checks\n",
        "- why you use set instead of list :-\n",
        "    - **To Remove Duplicates -*\n",
        "      ```\n",
        "      data = [1, 2, 2, 3, 4, 4]\n",
        "      unique_data = set(data)\n",
        "      print(unique_data)  # Output: {1, 2, 3, 4}\n",
        "\n",
        "      ```\n",
        "    - **To Check Membership Faster -**\n",
        "      Lists take longer time to check membership (\"banana\" in list) if the list is large.\n",
        "      ```\n",
        "      items = set([\"apple\", \"banana\", \"cherry\"])\n",
        "      print(\"banana\" in items)  # Fast check → True\n",
        "\n",
        "      ```\n",
        "    - **To Perform Set Operations -**\n",
        "      Sets support math-like operations:\n",
        "      ```\n",
        "      # This is formatted as code\n",
        "      a = set([1, 2, 3])\n",
        "      b = set([3, 4, 5])\n",
        "\n",
        "      print(a & b)  # Intersection → {3}\n",
        "      print(a | b)  # Union → {1, 2, 3, 4, 5}\n",
        "      print(a - b)  # Difference → {1, 2}\n",
        "\n",
        "      ```\n",
        "    -\n",
        "\n",
        "\n",
        "\n",
        "\n",
        "\n",
        "\n"
      ]
    },
    {
      "cell_type": "markdown",
      "metadata": {
        "id": "2ztmgkRFqaPb"
      },
      "source": [
        "6. **What is a string in Python, and how is it different from a list?**\n",
        "- String:-\n",
        "    - a string is a sequence of characters enclosed in quotes (either single ' ', double \" \", triple single ''' ''', or triple double \"\"\" \"\"\").\n",
        "    - Strings are immutable, meaning their contents cannot be changed after creation.\n",
        "    -  ```\n",
        "      # example\n",
        "      text = \"Hello, Python!\"\n",
        "      print(text[0])  # Output: 'H' (accessing first character)\n",
        "      ```\n",
        "- different from list :-\n",
        "    - string is immutable where as lists are mutable.\n",
        "    - characters are the elements in string where as in list any type of data can be a element.\n",
        "    - data is enclosed in quotes in string and in list ,it is enclosed in square bracket.\n",
        "    - strings are  used for text manipulation  and lists are  used for storing collection of items.\n",
        "    -  ```\n",
        "      # example of list\n",
        "      my_list = [10, \"hello\", True]\n",
        "      my_list[1] = \"world\"  # Lists can be modified!\n",
        "      print(my_list)  # Output: [10, \"world\", True]\n",
        "       ```\n",
        "\n"
      ]
    },
    {
      "cell_type": "markdown",
      "metadata": {
        "id": "54xdMENutO1D"
      },
      "source": [
        "7. **How do tuples ensure data integrity in Python?**\n",
        "- tuples ensure data integrity through their immutable nature.\n",
        "- Once a tuple is created, its elements cannot be modified, added, or removed.\n",
        "- This makes tuples ideal for storing fixed data that should not change accidentally.\n",
        "\n",
        "  **How Tuples Ensure Data Integrity:**\n",
        "    - Immutability -\n",
        "        - Unlike lists, tuples cannot be altered after creation.\n",
        "        - Attempting to modify a tuple raises a TypeError.\n",
        "        - ```\n",
        "          my_tuple = (1, 2, 3)\n",
        "          my_tuple[0] = 10  #  TypeError: 'tuple' object does not support item assignment\n",
        "          ```\n",
        "    - Use in Dictionaries (as Keys) -\n",
        "        - Since tuples are immutable, they can be used as dictionary keys, unlike lists.\n",
        "        - This ensures consistency in hash-based structures.\n",
        "        - ```\n",
        "          # This is formatted as code\n",
        "          valid_dict = {(1, 2): \"value\"}  # Works\n",
        "          invalid_dict = {[1, 2]: \"value\"}  # TypeError: unhashable type: 'list'\n",
        "          ```\n",
        "\n",
        "\n",
        "\n"
      ]
    },
    {
      "cell_type": "markdown",
      "metadata": {
        "id": "TgHLDUtuuyQl"
      },
      "source": [
        "8. **What is a hash table, and how does it relate to dictionaries in Python?**\n",
        "- A hash table (or hash map) is a data structure that stores key-value pairs by using a hash function to compute an index (hash) where the value is stored.\n",
        "- Key Properties of Hash Tables:\n",
        "    - Fast Lookups – Average time complexity: O(1) (constant time).\n",
        "    - Hash Function – Converts a key into a unique (or nearly unique) integer index.\n",
        "    - Collision Handling – Resolves cases where two keys produce the same hash (e.g., via chaining or open addressing).\n",
        "\n",
        "  ***How Does Python’s dict Relate to Hash Tables?***\n",
        "- In Python, dictionaries (dict) are implemented using hash tables. This means:\n",
        "\n",
        "    1. Dictionaries Use Hashing for Keys -\n",
        "         - When you store a key-value pair (d[key] = value), Python:\n",
        "         - Computes the hash of the key using hash(key).\n",
        "         - Uses this hash to determine where to store the value in memory.\n",
        "    2. Only Immutable Types Can Be Keys\n",
        "         - Since hash tables rely on consistent hashing, keys must be immutable (e.g., str, int, tuple).\n",
        "         - Mutable types (like list) cannot be keys because their hash could change.\n",
        "         - ```\n",
        "          valid_dict = {\"name\": \"Alice\", 1: \"one\", (1, 2): \"tuple_key\"}  #  Allowed  \n",
        "          invalid_dict = {[1, 2]: \"list_key\"}  #  TypeError (lists are mutable)  \n",
        "          ```\n",
        "    3. Fast O(1) Average-Time Operations\n",
        "          - dict operations (get, set, delete) are optimized due to hashing.\n",
        "          -  ```\n",
        "            my_dict = {\"a\": 1, \"b\": 2}\n",
        "            print(my_dict[\"a\"])  # O(1) lookup\n",
        "            ```\n",
        "    4. Collision Handling (Internally Managed)\n",
        "         - Python uses open addressing (a collision resolution method).\n",
        "         - If two keys hash to the same index, Python probes for the next available slot.\n",
        "\n",
        "\n",
        "\n"
      ]
    },
    {
      "cell_type": "markdown",
      "metadata": {
        "id": "RBDx9kNFxKHB"
      },
      "source": [
        "9. **Can lists contain different data types in Python?**\n",
        "- Yes, lists can containe different data types in python"
      ]
    },
    {
      "cell_type": "markdown",
      "metadata": {
        "id": "_7AlKkeqxbC1"
      },
      "source": [
        "10. **Explain why strings are immutable in Python?**\n",
        "- strings are immutable, meaning once created, their contents cannot be changed. This design choice has several key advantages:\n",
        "    - **Security & Data Integrity** :- Since strings cannot be modified, they prevent accidental changes to critical data (e.g., configuration strings, dictionary keys).\n",
        "      ```\n",
        "      API_KEY = \"abc123\"\n",
        "      # No risk of accidental modification: API_KEY[0] = 'x' →  Error\n",
        "      ```\n",
        "    - **Hashability for Dictionary Keys** :-Only immutable objects can be hashed (required for dictionary keys).Since strings are immutable, they can be used as keys in dict.\n",
        "      ```\n",
        "      user_passwords = {\"alice\": \"p@ssw0rd\"}  # Valid because strings are hashable\n",
        "      ```\n",
        "    - **Memory Efficiency (String Interning)**:-Python interns (reuses) small strings to save memory.If strings were mutable, changing one instance would affect others.\n",
        "      ```\n",
        "      # This is formatted as code\n",
        "      a = \"hello\"\n",
        "      b = \"hello\"\n",
        "      print(a is b)  # True (same memory location due to interning)\n",
        "      ```\n",
        "    - **Thread Safety** :- Immutable strings are automatically thread-safe (no risk of race conditions in multi-threaded programs).\n",
        "\n",
        "\n",
        "\n",
        "\n",
        "\n"
      ]
    },
    {
      "cell_type": "markdown",
      "metadata": {
        "id": "SFQW8PDWOurW"
      },
      "source": [
        "11. **What advantages do dictionaries offer over lists for certain tasks?**\n",
        "- Dictionaries and lists serve different purposes, but dictionaries excel in specific scenarios due to their hash-table-based implementation. Here are the key advantages:\n",
        "    - Faster Lookups (O(1) vs. O(n)) :-\n",
        "         - Dictionary:\n",
        "            - Uses hashing for constant-time (O(1)) lookups.\n",
        "            - Ideal for key-based searches (e.g., user[\"name\"]).\n",
        "         - List:\n",
        "            - Requires linear search (O(n)) (e.g., if \"Alice\" in users_list).\n",
        "             ```\n",
        "              # Example: Finding a User\n",
        "              # Dictionary (Fast)\n",
        "              users_dict = {\"Alice\": 25, \"Bob\": 30}\n",
        "              age = users_dict[\"Alice\"]  # O(1)\n",
        "\n",
        "              # List (Slow)\n",
        "              users_list = [(\"Alice\", 25), (\"Bob\", 30)]\n",
        "              age = next(age for name, age in users_list if name == \"Alice\")  \n",
        "              # O(n)\n",
        "              ```\n",
        "    - No Duplicate Keys (Ensures Uniqueness)\n",
        "        - Dictionary:\n",
        "            - Keys must be unique, preventing duplicates.\n",
        "            - Useful for counting frequencies (e.g., word occurrences).\n",
        "        - List:\n",
        "            - Allows duplicate entries (no built-in uniqueness check).\n",
        "          ```\n",
        "          # Example: Counting Words\n",
        "          # Dictionary (Efficient)\n",
        "          word_count = {}\n",
        "          for word in words:\n",
        "              word_count[word] = word_count.get(word, 0) + 1  # Ensures uniqueness\n",
        "          ```\n",
        "          ```\n",
        "          # List (Manual Work Needed)\n",
        "          word_list = []\n",
        "          for word in words:\n",
        "              if word not in word_list:  # O(n) check per word\n",
        "                  word_list.append(word)\n",
        "          ```\n",
        "    - Flexible Key-Value Storage\n",
        "         - Dictionary:\n",
        "           - Stores key-value pairs (e.g., {\"name\": \"Alice\", \"age\": 30}).\n",
        "           - Keys can be any immutable type (str, int, tuple).\n",
        "         - List:\n",
        "           - Only stores ordered sequences (no direct key-value association).\n",
        "           ```\n",
        "           # Storing User Data\n",
        "           # Dictionary (Structured Data)\n",
        "            user = {\"name\": \"Alice\", \"age\": 30, \"job\": \"Engineer\"}\n",
        "\n",
        "            # List (Less Intuitive)\n",
        "            user = [\"Alice\", 30, \"Engineer\"]  # Hard to track fields\n",
        "           ```\n",
        "\n",
        "    - Memory Efficiency for Sparse Data\n",
        "        - Dictionary:\n",
        "            - Only stores existing keys, saving memory for sparse datasets.\n",
        "\n",
        "        - List:\n",
        "            - Must allocate space for all indices, even if empty.\n",
        "           ```\n",
        "           # Storing Student Grades\n",
        "           #  Dictionary (Sparse Data)\n",
        "            grades = {\"Alice\": 90, \"Bob\": 85}  # Only stores existing entries\n",
        "\n",
        "            # List (Wastes Space)\n",
        "            grades = [None] * 1000  # Allocates 1000 slots, even if only 2 students\n",
        "            grades[123] = 90  # Alice is ID 123\n",
        "            grades[456] = 85  # Bob is ID 456\n",
        "            ```\n"
      ]
    },
    {
      "cell_type": "markdown",
      "metadata": {
        "id": "KBqZr-a3UZT2"
      },
      "source": [
        "12. **Describe a scenario where using a tuple would be preferable over a list.**\n",
        "- Storing Constant/Immutable Data\n",
        "    - Use Case: Configuration settings, days of the week, fixed coordinates.\n",
        "Why Tuple?\n",
        "       - Tuples are immutable, preventing accidental modifications.\n",
        "       - Ensures data integrity (e.g., a GPS coordinate shouldn’t change after creation)."
      ]
    },
    {
      "cell_type": "code",
      "execution_count": 3,
      "metadata": {
        "id": "u5sU5-a7VYHn"
      },
      "outputs": [],
      "source": [
        "# Tuple (Immutable, Safe)\n",
        "DAYS_OF_WEEK = (\"Mon\", \"Tue\", \"Wed\", \"Thu\", \"Fri\", \"Sat\", \"Sun\")\n",
        "COLOR_RGB = (255, 0, 0)  # Red\n",
        "\n",
        "# List (Risky, Mutable)\n",
        "config_list = [\"debug_mode\", \"log_level\"]\n",
        "config_list[1] = \"verbose\"  # Can be modified (may cause bugs)"
      ]
    },
    {
      "cell_type": "markdown",
      "metadata": {
        "id": "9bdaIfiPVatl"
      },
      "source": [
        "13. **How do sets handle duplicate values in Python?**\n",
        "- a set is an unordered collection of unique elements. When you add duplicate values to a set, they are automatically removed, ensuring that only distinct values are stored\n",
        "\n",
        "  **Key Behavior of Sets with Duplicates**\n",
        "    - **Automatic Deduplication**:- If you try to add the same value multiple times, the set keeps only one copy.\n",
        "    - **No Indexing (Unordered)**:- Sets do not maintain insertion order (unlike lists).\n",
        "    - **Mutable, But Elements Must Be Hashable**:- You can modify a set (add(), remove()), but its elements must be immutable (e.g., int, str, tuple).\n"
      ]
    },
    {
      "cell_type": "markdown",
      "metadata": {
        "id": "EdPFHpHHWX_6"
      },
      "source": [
        "14.  **How does the “in” keyword work differently for lists and dictionaries?**\n",
        "- The in keyword checks for membership, but its performance and behavior differ between lists and dictionaries due to their underlying data structures.\n",
        "1.   in with Lists (O(n) Linear Search)\n",
        "    - How it works:\n",
        "        - Python checks each element sequentially until a match is found.\n",
        "        - Worst case: O(n) time (must scan the entire list if the item doesn’t exist).\n",
        "    - Use case:\n",
        "        - Best for small lists or when order matters.\n",
        "        - Avoid for large datasets (slow for frequent checks).\n",
        "2.   in with Dictionaries (O(1) Hash-Based Lookup)\n",
        "    - How it works:\n",
        "        -  Python hashes the key and checks a fixed memory location (like a hash table).\n",
        "        - Average time: O(1) (constant time, regardless of dictionary size).\n",
        "    - Use case:\n",
        "        - Ideal for large datasets or frequent lookups (e.g., caching, databases).\n",
        "        - Only checks keys (not values).\n",
        "\n",
        "\n",
        "\n",
        "\n",
        "\n",
        "\n",
        "\n",
        "\n",
        "\n"
      ]
    },
    {
      "cell_type": "markdown",
      "metadata": {
        "id": "ajIfBLLyXl_G"
      },
      "source": [
        "15. **Can you modify the elements of a tuple? Explain why or why not.**\n",
        "- No, you cannot modify the elements of a tuple after creation. Tuples are immutable in Python, meaning their contents cannot be changed once defined.\n",
        "\n",
        "- Why Tuples Are Immutable\n",
        "    - Data Integrity\n",
        "        - Tuples are designed to store fixed data (e.g., days of the week, GPS coordinates).\n",
        "        - Immutability prevents accidental changes, ensuring consistency.\n",
        "    - Hashability\n",
        "        - Tuples can be used as keys in dictionaries because they are immutable (and thus hashable).\n",
        "        - Lists (mutable) cannot be dictionary keys.\n",
        "    - Performance Optimization\n",
        "        - Immutable objects are faster to access and memory-efficient because Python can optimize them.\n",
        "    - Thread Safety\n",
        "        - Immutable tuples are safe to use in multi-threaded programs (no risk of race conditions)."
      ]
    },
    {
      "cell_type": "markdown",
      "metadata": {
        "id": "FQdDuKkIYUqc"
      },
      "source": [
        "16. **What is a nested dictionary, and give an example of its use case?**\n",
        "- A nested dictionary is a dictionary that contains other dictionaries (or even lists, tuples, etc.) as values. It allows you to store hierarchical or structured data in a flexible way."
      ]
    },
    {
      "cell_type": "code",
      "execution_count": 4,
      "metadata": {
        "id": "_u5Kvso8YkBH"
      },
      "outputs": [],
      "source": [
        "employees = {\n",
        "    \"Alice\": {\n",
        "        \"age\": 30,\n",
        "        \"department\": \"Engineering\",\n",
        "        \"skills\": [\"Python\", \"SQL\", \"Cloud\"]\n",
        "    },\n",
        "    \"Bob\": {\n",
        "        \"age\": 25,\n",
        "        \"department\": \"Marketing\",\n",
        "        \"skills\": [\"SEO\", \"Content Writing\"]\n",
        "    }\n",
        "}"
      ]
    },
    {
      "cell_type": "markdown",
      "metadata": {
        "id": "fyCo3TNBYsT7"
      },
      "source": [
        "- Key Use Cases for Nested Dictionaries:-\n",
        "    - Storing Complex Data (e.g., User Profiles)\n",
        "    ```\n",
        "      user_profiles = {\n",
        "      \"user1\": {\n",
        "          \"name\": \"Alice\",\n",
        "          \"preferences\": {\"theme\": \"dark\", \"language\": \"English\"},\n",
        "          \"activity\": {\"last_login\": \"2023-10-01\", \"posts\": 42}\n",
        "      },\n",
        "      \"user2\": {\n",
        "          \"name\": \"Bob\",\n",
        "          \"preferences\": {\"theme\": \"light\", \"language\": \"Spanish\"},\n",
        "          \"activity\": {\"last_login\": \"2023-10-02\", \"posts\": 10}\n",
        "      }\n",
        "  }\n",
        "    ```\n",
        "\n"
      ]
    },
    {
      "cell_type": "markdown",
      "metadata": {
        "id": "-QMq7Oi3Z_pe"
      },
      "source": [
        "17.  **Describe the time complexity of accessing elements in a dictionary.**\n",
        "- dictionaries (dict) are implemented using hash tables, which provide highly efficient element access. Here’s a breakdown of the time complexity for common operations:\n",
        "    \n",
        "1.  Accessing a Value by Key (dict[key])\n",
        "      - Average Case: O(1) (constant time)\n",
        "      - Worst Case: O(n) (rare, due to hash collisions)\n",
        "      - Why O(1)?\n",
        "          *   Python computes the hash of the key (e.g., hash(\"Alice\")) to determine the memory location.\n",
        "          *   Direct lookup in a hash table avoids scanning the entire dictionary.\n",
        "      ```\n",
        "         user = {\"name\": \"Alice\", \"age\": 30}\n",
        "          print(user[\"name\"])  # O(1) lookup\n",
        "      ```\n",
        "2.  Checking Key Existence (in Operator)\n",
        "      - Average Case: O(1)\n",
        "      - Worst Case: O(n) (if all keys collide)\n",
        "      ```\n",
        "      if \"age\" in user:  # O(1) check\n",
        "    print(\"Key exists!\")\n",
        "      ```\n",
        "3. Accessing Values or Items (dict.values(), dict.items())\n",
        "      - Iteration: O(n) (must traverse all elements)\n",
        "      - Single Lookup: Still O(1) for keys.\n",
        "      ```\n",
        "       for key, value in user.items():  # O(n) to iterate all\n",
        "    print(key, value)\n",
        "      ```\n",
        "\n",
        "\n"
      ]
    },
    {
      "cell_type": "markdown",
      "metadata": {
        "id": "CfV12NEub494"
      },
      "source": [
        "18.  **In what situations are lists preferred over dictionaries?**\n",
        "- While dictionaries (dict) excel at fast key-value lookups, lists (list) are better suited for specific scenarios due to their ordered, index-based, and mutable nature. Here are key situations where lists are the superior choice:\n",
        "    - Maintaining Ordered Data\n",
        "       - When to Use Lists:\n",
        "          - When the order of elements matters (e.g., log entries, time-series data).\n",
        "          - When you need sequential processing (e.g., FIFO queues, stacks).\n",
        "       - Why Not a Dictionary?\n",
        "          - Dictionaries did not guarantee order before Python 3.7 (though they do now, lists are still more intuitive for ordered sequences).\n",
        "    - Storing Duplicate Values\n",
        "        - When to Use Lists:\n",
        "            - When duplicates are allowed (e.g., survey responses, transaction logs).\n",
        "        - Why Not a Dictionary?\n",
        "            - Dictionaries enforce unique keys, making them unsuitable for duplicate data.\n",
        "    - Index-Based Access (Position Matters)\n",
        "        - When to Use Lists:\n",
        "            - When you need O(1) access by numerical index (e.g., arrays in other languages).\n",
        "        - Why Not a Dictionary?\n",
        "            - Dictionaries require keys, not positions.\n",
        "            - Simulating indices in a dict ({0: \"Alice\", 1: \"Bob\"}) is clunky.\n",
        "    - Frequent Insertions/Deletions at Ends\n",
        "        - When to Use Lists:\n",
        "            - When you frequently append or pop from the end (e.g., stacks, undo buffers).\n",
        "        -  Why Not a Dictionary?\n",
        "            - No built-in \"end\" concept—requires manual tracking (e.g., max_key + 1).\n",
        "\n",
        "\n",
        "         \n",
        "      \n",
        "\n",
        "\n"
      ]
    },
    {
      "cell_type": "markdown",
      "metadata": {
        "id": "9kMRXR_Kd91y"
      },
      "source": [
        "19. **Why are dictionaries considered unordered, and how does that affect data retrieval?**\n",
        "- dictionaries (dict) were officially unordered before Python 3.7. While they now preserve insertion order (as of Python 3.7+), they are still conceptually unordered because:\n",
        "\n",
        "1. Hash Tables Under the Hood\n",
        "   - Dictionaries use a hash table to store keys, which scrambles key order for efficient lookups.\n",
        "   - The order you insert keys doesn’t determine their memory layout.\n",
        "\n",
        "2. No Guaranteed Order in Early Python Versions\n",
        "    - In Python 3.6 and earlier, dictionaries did not preserve insertion order.\n",
        "    - Code relying on order would break across Python versions.\n",
        "3. Mathematical Sets Are Unordered\n",
        "    - Dictionaries behave like mathematical hash maps, where order is irrelevant.\n",
        "\n",
        "  \n",
        "  **How Does This Affect Data Retrieval?**\n",
        "  1. Consistency Across Python Versions\n",
        "      - Code written for Python 3.7+ might fail in older versions if order is assumed.\n",
        "  2. 2. Performance Optimizations\n",
        "      - Hash tables reorder keys internally to minimize collisions.\n",
        "      -  Iteration order might change if the dictionary is modified.\n",
        "  3. Logical Assumptions\n",
        "      - Dictionaries are optimized for key-based lookups, not positional access"
      ]
    },
    {
      "cell_type": "markdown",
      "metadata": {
        "id": "vDqH6rcse_ZG"
      },
      "source": [
        "20. **Explain the difference between a list and a dictionary in terms of data retrieval.**\n",
        "- The primary differences between lists and dictionaries in Python when retrieving data are:\n",
        "1. Access Method\n",
        "    - List: Accessed by index (position) (O(1)).\n",
        "    - Dictionary: Accessed by key (O(1) average, O(n) worst-case).\n",
        "2. Search Efficiency\n",
        "    - List: Checking if an item exists (in operator) is O(n) (slow for large lists).\n",
        "    - Dictionary: Checking if a key exists (in operator) is O(1) (very fast).\n",
        "3. Order Guarantees\n",
        "    - List: Strictly ordered (items stay in insertion order).\n",
        "    - Dictionary:\n",
        "        - Python 3.7+: Preserves insertion order (but still optimized for key-based access).\n",
        "        - Pre-3.7: No order guarantee (keys could appear randomly)."
      ]
    },
    {
      "cell_type": "markdown",
      "metadata": {
        "id": "MwSkJf8nf7Vu"
      },
      "source": [
        "# Practical Questions"
      ]
    },
    {
      "cell_type": "markdown",
      "metadata": {
        "id": "oLk-zVXfgEgQ"
      },
      "source": [
        "1. **Write a code to create a string with your name and print it.**"
      ]
    },
    {
      "cell_type": "code",
      "execution_count": 6,
      "metadata": {
        "colab": {
          "base_uri": "https://localhost:8080/"
        },
        "id": "on9jULyKgKyp",
        "outputId": "498ba943-a0da-45c6-f597-b72fc314b99a"
      },
      "outputs": [
        {
          "name": "stdout",
          "output_type": "stream",
          "text": [
            "what is your nameAnisha kumari\n",
            "Anisha kumari\n"
          ]
        }
      ],
      "source": [
        "name=input(\"what is your name\")\n",
        "print(name)"
      ]
    },
    {
      "cell_type": "markdown",
      "metadata": {
        "id": "2klTgU4zgXqd"
      },
      "source": [
        "2. **Write a code to find the length of the string \"Hello World\".**"
      ]
    },
    {
      "cell_type": "code",
      "execution_count": 7,
      "metadata": {
        "colab": {
          "base_uri": "https://localhost:8080/"
        },
        "id": "fTRry4whgcvF",
        "outputId": "c31213ec-2a31-4e70-f1c6-9c75c8bbf5e4"
      },
      "outputs": [
        {
          "name": "stdout",
          "output_type": "stream",
          "text": [
            "11\n"
          ]
        }
      ],
      "source": [
        "print(len(\"Hello World\"))"
      ]
    },
    {
      "cell_type": "markdown",
      "metadata": {
        "id": "snPPHSixY9-m"
      },
      "source": [
        "   3. **Write a code to slice the first 3 characters from the string \"Python Programming\".**"
      ]
    },
    {
      "cell_type": "code",
      "execution_count": 10,
      "metadata": {
        "colab": {
          "base_uri": "https://localhost:8080/"
        },
        "id": "G7NN11f9gwcO",
        "outputId": "ec12116a-de62-45dc-8605-620996b49230"
      },
      "outputs": [
        {
          "name": "stdout",
          "output_type": "stream",
          "text": [
            "Pyt\n"
          ]
        }
      ],
      "source": [
        "str=\"Python Programming\"\n",
        "print(str[:3])"
      ]
    },
    {
      "cell_type": "markdown",
      "metadata": {
        "id": "Gn62DDo6hL06"
      },
      "source": [
        "4. **Write a code to convert the string \"hello\" to uppercase.**"
      ]
    },
    {
      "cell_type": "code",
      "execution_count": 12,
      "metadata": {
        "colab": {
          "base_uri": "https://localhost:8080/"
        },
        "id": "y7kszyo7hQw8",
        "outputId": "7068e1ea-8ffa-45f2-c3a2-e5a76faf3fcf"
      },
      "outputs": [
        {
          "name": "stdout",
          "output_type": "stream",
          "text": [
            "HELLO\n"
          ]
        }
      ],
      "source": [
        "str=\"hello\"\n",
        "print(str.upper())"
      ]
    },
    {
      "cell_type": "markdown",
      "metadata": {
        "id": "8Ye99BU-hrT2"
      },
      "source": [
        "5. **Write a code to replace the word \"apple\" with \"orange\" in the string \"I like apple\".**"
      ]
    },
    {
      "cell_type": "code",
      "execution_count": 13,
      "metadata": {
        "colab": {
          "base_uri": "https://localhost:8080/"
        },
        "id": "51-425hAhxe9",
        "outputId": "90e14408-a7c1-48e8-cc6d-f168389f147a"
      },
      "outputs": [
        {
          "name": "stdout",
          "output_type": "stream",
          "text": [
            "I like orange\n"
          ]
        }
      ],
      "source": [
        "str=\"I like apple\"\n",
        "print(str.replace(\"apple\",\"orange\"))"
      ]
    },
    {
      "cell_type": "markdown",
      "metadata": {
        "id": "oujW4kA9iTD8"
      },
      "source": [
        "6. **Write a code to create a list with numbers 1 to 5 and print it.**"
      ]
    },
    {
      "cell_type": "code",
      "execution_count": 14,
      "metadata": {
        "colab": {
          "base_uri": "https://localhost:8080/"
        },
        "id": "7iPD6IV8iZU0",
        "outputId": "aac093e5-47f5-4f40-bd46-7e57d6d8496b"
      },
      "outputs": [
        {
          "name": "stdout",
          "output_type": "stream",
          "text": [
            "[1, 2, 3, 4, 5]\n"
          ]
        }
      ],
      "source": [
        "list1 =  [1,2,3,4,5]\n",
        "print(list1)"
      ]
    },
    {
      "cell_type": "markdown",
      "metadata": {
        "id": "YMUv6gq-ltn2"
      },
      "source": [
        "7. **Write a code to append the number 10 to the list [1, 2, 3, 4].**"
      ]
    },
    {
      "cell_type": "code",
      "execution_count": 16,
      "metadata": {
        "colab": {
          "base_uri": "https://localhost:8080/"
        },
        "id": "rIf9HCizioqP",
        "outputId": "1ac46cf8-6fa7-4622-ea1f-7b79df284643"
      },
      "outputs": [
        {
          "name": "stdout",
          "output_type": "stream",
          "text": [
            "[1, 2, 3, 4, 5]\n"
          ]
        }
      ],
      "source": [
        "list1=[1,2,3,4]\n",
        "list1.append(5)\n",
        "print(list1)"
      ]
    },
    {
      "cell_type": "markdown",
      "metadata": {
        "id": "sMbivc_yi5vn"
      },
      "source": [
        "8. **Write a code to remove the number 3 from the list [1, 2, 3, 4, 5].**"
      ]
    },
    {
      "cell_type": "code",
      "execution_count": 18,
      "metadata": {
        "colab": {
          "base_uri": "https://localhost:8080/"
        },
        "id": "ALoUXZ2Ni-IH",
        "outputId": "34e65162-5ccb-4865-833a-8e9476299fb9"
      },
      "outputs": [
        {
          "name": "stdout",
          "output_type": "stream",
          "text": [
            "[1, 2, 4, 5]\n"
          ]
        }
      ],
      "source": [
        "list1=[1,2,3,4,5]\n",
        "list1.remove(3)\n",
        "print(list1)"
      ]
    },
    {
      "cell_type": "markdown",
      "metadata": {
        "id": "YMWnh1TqjQ8h"
      },
      "source": [
        "9. **Write a code to access the second element in the list ['a', 'b', 'c', 'd'].**\n"
      ]
    },
    {
      "cell_type": "code",
      "execution_count": 20,
      "metadata": {
        "colab": {
          "base_uri": "https://localhost:8080/"
        },
        "id": "l4bx2jDzjmLS",
        "outputId": "5fe81518-3e0f-4888-d102-07411f571121"
      },
      "outputs": [
        {
          "name": "stdout",
          "output_type": "stream",
          "text": [
            "b\n"
          ]
        }
      ],
      "source": [
        "list1 = ['a', 'b', 'c', 'd']\n",
        "print(list1[1])"
      ]
    },
    {
      "cell_type": "markdown",
      "metadata": {
        "id": "2WmlDFD_juSw"
      },
      "source": [
        "10. **Write a code to reverse the list [10, 20, 30, 40, 50].**"
      ]
    },
    {
      "cell_type": "code",
      "execution_count": 21,
      "metadata": {
        "colab": {
          "base_uri": "https://localhost:8080/"
        },
        "id": "AEx1eYP6jz3g",
        "outputId": "a72b62c4-04d5-4f7b-f0fc-a5ba14104b17"
      },
      "outputs": [
        {
          "name": "stdout",
          "output_type": "stream",
          "text": [
            "[50, 40, 30, 20, 10]\n"
          ]
        }
      ],
      "source": [
        "list1=[10, 20, 30, 40, 50]\n",
        "print(list1[::-1])"
      ]
    },
    {
      "cell_type": "markdown",
      "metadata": {
        "id": "Jpg7ryMen3Ly"
      },
      "source": [
        "11.  **Write a code to create a tuple with the elements 100, 200, 300 and print it.**"
      ]
    },
    {
      "cell_type": "code",
      "execution_count": 1,
      "metadata": {
        "colab": {
          "base_uri": "https://localhost:8080/"
        },
        "id": "qWzbhsOhn82G",
        "outputId": "b4ce0f94-9cf5-4cc6-8fc2-b44e164dcd47"
      },
      "outputs": [
        {
          "name": "stdout",
          "output_type": "stream",
          "text": [
            "(100, 200, 300)\n"
          ]
        }
      ],
      "source": [
        "tuple1=(100,200,300)\n",
        "print(tuple1)"
      ]
    },
    {
      "cell_type": "markdown",
      "metadata": {
        "id": "FT5RX2R6oGTA"
      },
      "source": [
        "12.  **Write a code to access the second-to-last element of the tuple ('red', 'green', 'blue', 'yellow').**"
      ]
    },
    {
      "cell_type": "code",
      "execution_count": 2,
      "metadata": {
        "colab": {
          "base_uri": "https://localhost:8080/"
        },
        "id": "eu55hL1qoPEn",
        "outputId": "291f501b-9a72-454b-d245-1fb3bc796e65"
      },
      "outputs": [
        {
          "name": "stdout",
          "output_type": "stream",
          "text": [
            "blue\n"
          ]
        }
      ],
      "source": [
        "colors = ('red', 'green', 'blue', 'yellow')\n",
        "second_to_last = colors[-2]  # -1 is last, -2 is second-to-last\n",
        "print(second_to_last)  # Output: 'blue'"
      ]
    },
    {
      "cell_type": "markdown",
      "metadata": {
        "id": "YOeT-B31oigz"
      },
      "source": [
        "13. **Write a code to find the minimum number in the tuple (10, 20, 5, 15)**."
      ]
    },
    {
      "cell_type": "code",
      "execution_count": 3,
      "metadata": {
        "colab": {
          "base_uri": "https://localhost:8080/"
        },
        "id": "T_Qqx2uqop_h",
        "outputId": "f772dd21-91db-4609-e201-6d81c62b0289"
      },
      "outputs": [
        {
          "name": "stdout",
          "output_type": "stream",
          "text": [
            "5\n"
          ]
        }
      ],
      "source": [
        "tuple1=(10,20,5,15)\n",
        "min=tuple1[0]\n",
        "for i in tuple1:\n",
        "  if i<min:\n",
        "    min=i;\n",
        "print(min)"
      ]
    },
    {
      "cell_type": "markdown",
      "metadata": {
        "id": "dorwMh5wpDUO"
      },
      "source": [
        "14.  **Write a code to find the index of the element \"cat\" in the tuple ('dog', 'cat', 'rabbit').**"
      ]
    },
    {
      "cell_type": "code",
      "execution_count": 4,
      "metadata": {
        "colab": {
          "base_uri": "https://localhost:8080/"
        },
        "id": "tpFkuUlWpKvS",
        "outputId": "757e682d-5f8d-428d-db72-59d479581f34"
      },
      "outputs": [
        {
          "name": "stdout",
          "output_type": "stream",
          "text": [
            "1\n"
          ]
        }
      ],
      "source": [
        "animals = ('dog', 'cat', 'rabbit')\n",
        "index = animals.index('cat')\n",
        "print(index)"
      ]
    },
    {
      "cell_type": "markdown",
      "metadata": {
        "id": "v86sYRd1phaF"
      },
      "source": [
        "**15. Write a code to create a tuple containing three different fruits and check if \"kiwi\" is in it**"
      ]
    },
    {
      "cell_type": "code",
      "execution_count": 5,
      "metadata": {
        "colab": {
          "base_uri": "https://localhost:8080/"
        },
        "id": "axg1idxJpnIv",
        "outputId": "7e3800e2-2eca-407c-a1f0-7a55f5f94da4"
      },
      "outputs": [
        {
          "name": "stdout",
          "output_type": "stream",
          "text": [
            "yes kiwi is available\n"
          ]
        }
      ],
      "source": [
        "fruits=(\"apple\",\"mango\",\"kiwi\")\n",
        "if \"kiwi\" in fruits:\n",
        "  print(\"yes kiwi is available\")"
      ]
    },
    {
      "cell_type": "markdown",
      "metadata": {
        "id": "4BsGNIiMp-5G"
      },
      "source": [
        "**16. Write a code to create a set with the elements 'a', 'b', 'c' and print it.**"
      ]
    },
    {
      "cell_type": "code",
      "execution_count": 6,
      "metadata": {
        "colab": {
          "base_uri": "https://localhost:8080/"
        },
        "id": "FcEwnB2tqCVt",
        "outputId": "278731c3-ba4d-415c-e721-bce6b90a7be8"
      },
      "outputs": [
        {
          "name": "stdout",
          "output_type": "stream",
          "text": [
            "{'a', 'c', 'b'}\n"
          ]
        }
      ],
      "source": [
        "set1={'a','b','c'}\n",
        "print(set1)"
      ]
    },
    {
      "cell_type": "markdown",
      "metadata": {
        "id": "wekiOcOWqKyf"
      },
      "source": [
        "**17. Write a code to clear all elements from the set {1, 2, 3, 4, 5}.**"
      ]
    },
    {
      "cell_type": "code",
      "execution_count": 9,
      "metadata": {
        "colab": {
          "base_uri": "https://localhost:8080/"
        },
        "id": "T7a7GV8lqOA-",
        "outputId": "95de196b-a5c9-434b-c721-7f04d3ace929"
      },
      "outputs": [
        {
          "name": "stdout",
          "output_type": "stream",
          "text": [
            "set()\n"
          ]
        }
      ],
      "source": [
        "set1={1,2,3,4,5}\n",
        "set1.clear()\n",
        "print(set1)\n"
      ]
    },
    {
      "cell_type": "markdown",
      "metadata": {
        "id": "jxgeddbPqlQG"
      },
      "source": [
        "**18. Write a code to remove the element 4 from the set {1, 2, 3, 4}**"
      ]
    },
    {
      "cell_type": "code",
      "execution_count": 10,
      "metadata": {
        "colab": {
          "base_uri": "https://localhost:8080/"
        },
        "id": "LXIsEwEdqpK_",
        "outputId": "4f1ff719-c56e-463a-8a91-6cfb7a8cbfd8"
      },
      "outputs": [
        {
          "name": "stdout",
          "output_type": "stream",
          "text": [
            "{1, 2, 3}\n"
          ]
        }
      ],
      "source": [
        "set1={1,2,3,4}\n",
        "set1.remove(4)\n",
        "print(set1)"
      ]
    },
    {
      "cell_type": "markdown",
      "metadata": {
        "id": "QiRXct2tqwxu"
      },
      "source": [
        "**19. Write a code to find the union of two sets {1, 2, 3} and {3, 4, 5}**"
      ]
    },
    {
      "cell_type": "code",
      "execution_count": 11,
      "metadata": {
        "colab": {
          "base_uri": "https://localhost:8080/"
        },
        "id": "1kFj-U9kqztO",
        "outputId": "220e0319-cc66-4570-ae23-4637f0348592"
      },
      "outputs": [
        {
          "name": "stdout",
          "output_type": "stream",
          "text": [
            "{1, 2, 3, 4, 5}\n"
          ]
        }
      ],
      "source": [
        "set1={1,2,3}\n",
        "set2={3,4,5}\n",
        "print(set1 | set2)"
      ]
    },
    {
      "cell_type": "markdown",
      "metadata": {
        "id": "omARiKd3q--Q"
      },
      "source": [
        "**20. Write a code to find the intersection of two sets {1, 2, 3} and {2, 3, 4}**"
      ]
    },
    {
      "cell_type": "code",
      "execution_count": 12,
      "metadata": {
        "colab": {
          "base_uri": "https://localhost:8080/"
        },
        "id": "IR8uge-4rDI1",
        "outputId": "3304341a-e6e0-4874-fdb0-78b57fd34e2d"
      },
      "outputs": [
        {
          "name": "stdout",
          "output_type": "stream",
          "text": [
            "{2, 3}\n"
          ]
        }
      ],
      "source": [
        "set1={1,2,3}\n",
        "set2={2,3,4}\n",
        "\n",
        "print(set1 & set2)"
      ]
    },
    {
      "cell_type": "markdown",
      "metadata": {
        "id": "PwsjEfTKrlhE"
      },
      "source": [
        "**21. Write a code to create a dictionary with the keys \"name\", \"age\", and \"city\", and print it**"
      ]
    },
    {
      "cell_type": "code",
      "execution_count": 14,
      "metadata": {
        "colab": {
          "base_uri": "https://localhost:8080/"
        },
        "id": "PpXEEtC6rpzA",
        "outputId": "b2a82490-3dbf-411a-e837-294afa5b053e"
      },
      "outputs": [
        {
          "name": "stdout",
          "output_type": "stream",
          "text": [
            "{'name': 'anisha', 'age': 21, 'city': 'gaya'}\n"
          ]
        }
      ],
      "source": [
        "info={\n",
        "    \"name\":\"anisha\",\n",
        "    \"age\" : 21,\n",
        "    \"city\":\"gaya\"\n",
        "    }\n",
        "print(info)"
      ]
    },
    {
      "cell_type": "markdown",
      "metadata": {
        "id": "Zw1-XMiMs4LN"
      },
      "source": [
        "22. **Write a code to add a new key-value pair \"country\": \"USA\" to the dictionary {'name': 'John', 'age': 25}**"
      ]
    },
    {
      "cell_type": "code",
      "execution_count": 15,
      "metadata": {
        "colab": {
          "base_uri": "https://localhost:8080/"
        },
        "id": "Y2EuMalWs76t",
        "outputId": "aca69a49-9f97-48fe-eb70-8a993faa4510"
      },
      "outputs": [
        {
          "name": "stdout",
          "output_type": "stream",
          "text": [
            "{'name': 'john', 'age': 25, 'country': 'USA'}\n"
          ]
        }
      ],
      "source": [
        "dict1={\n",
        "    'name':\"john\",\n",
        "    'age':25,\n",
        "}\n",
        "dict1['country']=\"USA\"\n",
        "print(dict1)\n"
      ]
    },
    {
      "cell_type": "markdown",
      "metadata": {
        "id": "dztiZ7ZatlX9"
      },
      "source": [
        "**23. Write a code to access the value associated with the key \"name\" in the dictionary {'name': 'Alice', 'age': 30}.**"
      ]
    },
    {
      "cell_type": "code",
      "execution_count": 17,
      "metadata": {
        "colab": {
          "base_uri": "https://localhost:8080/"
        },
        "id": "6cZXNdVht45y",
        "outputId": "80fd0dc8-aa64-4af6-b5ac-c7777f102bc3"
      },
      "outputs": [
        {
          "name": "stdout",
          "output_type": "stream",
          "text": [
            "Alice\n"
          ]
        }
      ],
      "source": [
        "dict1={\n",
        "    'name':\"Alice\",\n",
        "    'age':30,\n",
        "}\n",
        "print(dict1['name'])"
      ]
    },
    {
      "cell_type": "markdown",
      "metadata": {
        "id": "nvi8WU0iuQhJ"
      },
      "source": [
        "**24. Write a code to remove the key \"age\" from the dictionary {'name': 'Bob', 'age': 22, 'city': 'New York'}.**"
      ]
    },
    {
      "cell_type": "code",
      "execution_count": 19,
      "metadata": {
        "colab": {
          "base_uri": "https://localhost:8080/"
        },
        "id": "RrpNSd9-uYiX",
        "outputId": "c4a0c59f-f181-4259-f59c-cf3a5b266bb5"
      },
      "outputs": [
        {
          "name": "stdout",
          "output_type": "stream",
          "text": [
            "{'name': 'Bob', 'city': 'New York'}\n"
          ]
        }
      ],
      "source": [
        "dict1={\n",
        "    'name': 'Bob',\n",
        "    'age': 22,\n",
        "    'city': 'New York'\n",
        "    }\n",
        "dict1.pop('age')\n",
        "print(dict1)\n"
      ]
    },
    {
      "cell_type": "markdown",
      "metadata": {
        "id": "ZjQd3Sxxu9Ac"
      },
      "source": [
        "**25. Write a code to check if the key \"city\" exists in the dictionary {'name': 'Alice', 'city': 'Paris'}.**"
      ]
    },
    {
      "cell_type": "code",
      "execution_count": 21,
      "metadata": {
        "colab": {
          "base_uri": "https://localhost:8080/"
        },
        "id": "IB_u9kPAvYu8",
        "outputId": "e96fd700-4a88-489b-aac0-6882d942b3e8"
      },
      "outputs": [
        {
          "name": "stdout",
          "output_type": "stream",
          "text": [
            "Key 'city' exists!\n"
          ]
        }
      ],
      "source": [
        "dict1 = {'name': 'Alice', 'city': 'Paris'}\n",
        "if dict1.get(\"city\") is not None:\n",
        "    print(\"Key 'city' exists!\")  # Output: Key 'city' exists!\n",
        "else:\n",
        "    print(\"Key 'city' does not exist.\")\n"
      ]
    },
    {
      "cell_type": "markdown",
      "metadata": {
        "id": "qrSo6fUmv2D1"
      },
      "source": [
        "**26. Write a code to create a list, a tuple, and a dictionary, and print them all.**"
      ]
    },
    {
      "cell_type": "code",
      "execution_count": 25,
      "metadata": {
        "colab": {
          "base_uri": "https://localhost:8080/"
        },
        "id": "ktpgZFBWvGz8",
        "outputId": "a1b848bb-42ef-47f2-eaad-2f95104853ec"
      },
      "outputs": [
        {
          "name": "stdout",
          "output_type": "stream",
          "text": [
            "['Anisha', 21, 8.3, True]\n",
            "('Anisha', 21, 8.3, True)\n",
            "{'name': 'Anisha', 'age': 21, 'CGPA': 8.3, 'vote': 'true'}\n"
          ]
        }
      ],
      "source": [
        "list1=[\"Anisha\",21,8.3,True]\n",
        "tuple1=(\"Anisha\",21,8.3,True)\n",
        "dict1={\n",
        "    'name':\"Anisha\",\n",
        "    'age':21,\n",
        "    'CGPA':8.3,\n",
        "    'vote':\"true\"\n",
        "\n",
        "}\n",
        "print(list1)\n",
        "print(tuple1)\n",
        "print(dict1)"
      ]
    },
    {
      "cell_type": "markdown",
      "metadata": {
        "id": "mticm3u7wxr_"
      },
      "source": [
        "**27. Write a code to create a list of 5 random numbers between 1 and 100, sort it in ascending orrder, and print the result.(replaced)**"
      ]
    },
    {
      "cell_type": "code",
      "execution_count": 27,
      "metadata": {
        "colab": {
          "base_uri": "https://localhost:8080/"
        },
        "id": "V8B8q2UTxAko",
        "outputId": "1f3e74f3-ecec-4bf0-b8f9-6461ab700a76"
      },
      "outputs": [
        {
          "name": "stdout",
          "output_type": "stream",
          "text": [
            "[64, 66, 67, 76, 82]\n"
          ]
        }
      ],
      "source": [
        "list1=[64,67,76,82,66]\n",
        "list1.sort()\n",
        "print(list1)\n"
      ]
    },
    {
      "cell_type": "markdown",
      "metadata": {
        "id": "TZZn9PajxgyU"
      },
      "source": [
        "**28. Write a code to create a list with strings and print the element at the third index**"
      ]
    },
    {
      "cell_type": "code",
      "execution_count": 29,
      "metadata": {
        "colab": {
          "base_uri": "https://localhost:8080/"
        },
        "id": "fxIDxZ78xmpW",
        "outputId": "7f016c06-c5fb-4393-a393-633d647bb5b3"
      },
      "outputs": [
        {
          "name": "stdout",
          "output_type": "stream",
          "text": [
            "soumya\n"
          ]
        }
      ],
      "source": [
        "list1=[\"Anisha\",\"sohana\",\"karina\",\"soumya\",\"sunaina\"]\n",
        "print(list1[3])"
      ]
    },
    {
      "cell_type": "markdown",
      "metadata": {
        "id": "sJhiu3EYyCrs"
      },
      "source": [
        "**29. Write a code to combine two dictionaries into one and print the result.**"
      ]
    },
    {
      "cell_type": "code",
      "execution_count": 30,
      "metadata": {
        "colab": {
          "base_uri": "https://localhost:8080/"
        },
        "id": "meIc6X6vyG0I",
        "outputId": "8bf2a867-ec83-45a6-d138-1f936aa0b4ef"
      },
      "outputs": [
        {
          "name": "stdout",
          "output_type": "stream",
          "text": [
            "{'a': 1, 'b': 2, 'c': 3, 'd': 4}\n"
          ]
        }
      ],
      "source": [
        "dict1 = {\"a\": 1, \"b\": 2}\n",
        "dict2 = {\"c\": 3, \"d\": 4}\n",
        "\n",
        "combined_dict = dict1 | dict2  # Merges dict2 into dict1\n",
        "print(combined_dict)"
      ]
    },
    {
      "cell_type": "markdown",
      "metadata": {
        "id": "i8m0bq-Fy-VD"
      },
      "source": [
        "**30. Write a code to convert a list of strings into a set.**"
      ]
    },
    {
      "cell_type": "code",
      "execution_count": 31,
      "metadata": {
        "colab": {
          "base_uri": "https://localhost:8080/"
        },
        "id": "IdNLomcdilzk",
        "outputId": "51b729fc-7aaf-4816-b336-a82aa38f4cf7"
      },
      "outputs": [
        {
          "name": "stdout",
          "output_type": "stream",
          "text": [
            "{'banana', 'apple', 'cherry'}\n"
          ]
        }
      ],
      "source": [
        "my_list = [\"apple\", \"banana\", \"apple\", \"cherry\"]\n",
        "my_set = set(my_list)  # Converts list to set (removes duplicates)\n",
        "print(my_set)"
      ]
    }
  ],
  "metadata": {
    "colab": {
      "provenance": []
    },
    "kernelspec": {
      "display_name": "Python 3",
      "name": "python3"
    },
    "language_info": {
      "name": "python"
    }
  },
  "nbformat": 4,
  "nbformat_minor": 0
}
